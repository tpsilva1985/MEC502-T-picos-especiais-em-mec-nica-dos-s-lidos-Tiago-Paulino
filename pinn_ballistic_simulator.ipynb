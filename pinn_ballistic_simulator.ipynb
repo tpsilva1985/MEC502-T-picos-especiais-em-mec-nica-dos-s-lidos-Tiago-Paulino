{
 "cells": [
  {
   "cell_type": "markdown",
   "id": "6313da7a",
   "metadata": {},
   "source": [
    "# Simulador Balístico com PINN\n",
    "Este notebook utiliza redes neurais PINN (Physics-Informed Neural Networks) com as equações de McCoy para prever a trajetória e o alcance máximo de um projétil, utilizando dados reais de arrasto fornecidos por radar (Radar Weibel)."
   ]
  },
  {
   "cell_type": "code",
   "execution_count": null,
   "id": "abece931",
   "metadata": {},
   "outputs": [],
   "source": [
    "import torch\n",
    "import torch.nn as nn\n",
    "import numpy as np\n",
    "import matplotlib.pyplot as plt\n",
    "import pandas as pd"
   ]
  },
  {
   "cell_type": "markdown",
   "id": "8d50ca23",
   "metadata": {},
   "source": [
    "## Definição do Modelo PINN"
   ]
  },
  {
   "cell_type": "code",
   "execution_count": null,
   "id": "7075fc41",
   "metadata": {},
   "outputs": [],
   "source": [
    "class PINN(nn.Module):\n",
    "    def __init__(self):\n",
    "        super(PINN, self).__init__()\n",
    "        self.net = nn.Sequential(\n",
    "            nn.Linear(2, 64),\n",
    "            nn.Tanh(),\n",
    "            nn.Linear(64, 64),\n",
    "            nn.Tanh(),\n",
    "            nn.Linear(64, 2)  # Saída: [x(t), y(t)]\n",
    "        )\n",
    "\n",
    "    def forward(self, t, v0):\n",
    "        input_tensor = torch.cat((t, v0), dim=1)\n",
    "        return self.net(input_tensor)"
   ]
  },
  {
   "cell_type": "markdown",
   "id": "81b1c0c3",
   "metadata": {},
   "source": [
    "## Função de Perda com as Equações de McCoy"
   ]
  },
  {
   "cell_type": "code",
   "execution_count": null,
   "id": "99fe2352",
   "metadata": {},
   "outputs": [],
   "source": [
    "def loss_function(model, t, v0, m, A, rho, Cd_func, g=9.81):\n",
    "    t.requires_grad = True\n",
    "    v0.requires_grad = True\n",
    "    out = model(t, v0)\n",
    "    x = out[:, 0:1]\n",
    "    y = out[:, 1:2]\n",
    "\n",
    "    dx_dt = torch.autograd.grad(x, t, grad_outputs=torch.ones_like(x), create_graph=True)[0]\n",
    "    dy_dt = torch.autograd.grad(y, t, grad_outputs=torch.ones_like(y), create_graph=True)[0]\n",
    "\n",
    "    v = torch.sqrt(dx_dt**2 + dy_dt**2)\n",
    "    Cd = Cd_func(v.detach().numpy())\n",
    "    Cd = torch.tensor(Cd, dtype=torch.float32).reshape(-1, 1)\n",
    "\n",
    "    Fd = 0.5 * Cd * rho * A * v ** 2\n",
    "    ax = -Fd * (dx_dt / v) / m\n",
    "    ay = -Fd * (dy_dt / v) / m - g\n",
    "\n",
    "    ddx_dt = torch.autograd.grad(dx_dt, t, grad_outputs=torch.ones_like(dx_dt), create_graph=True)[0]\n",
    "    ddy_dt = torch.autograd.grad(dy_dt, t, grad_outputs=torch.ones_like(dy_dt), create_graph=True)[0]\n",
    "\n",
    "    loss = torch.mean((ddx_dt - ax)**2 + (ddy_dt - ay)**2)\n",
    "    return loss"
   ]
  },
  {
   "cell_type": "markdown",
   "id": "256f631c",
   "metadata": {},
   "source": [
    "## Leitura dos Dados do Radar Weibel"
   ]
  },
  {
   "cell_type": "code",
   "execution_count": null,
   "id": "77310db6",
   "metadata": {},
   "outputs": [],
   "source": [
    "weibel_data = pd.read_csv(\"dados_weibel.txt\", sep=r\"\\s+\", header=None, names=[\"serie\", \"tempo\", \"mach\", \"Cd\"])\n",
    "weibel_data[\"Cd_suave\"] = weibel_data[\"Cd\"].rolling(window=9, center=True, min_periods=1).mean()\n",
    "\n",
    "def interpolar_cd_tensor(mach):\n",
    "    return np.interp(mach, weibel_data[\"mach\"], weibel_data[\"Cd_suave\"])"
   ]
  },
  {
   "cell_type": "markdown",
   "id": "8f2bdefa",
   "metadata": {},
   "source": [
    "## Definições e Treinamento da Rede PINN"
   ]
  },
  {
   "cell_type": "code",
   "execution_count": null,
   "id": "0e34c565",
   "metadata": {},
   "outputs": [],
   "source": [
    "m_proj = 0.04065\n",
    "d_proj = 0.01298\n",
    "A_proj = np.pi * (d_proj / 2) ** 2\n",
    "rho = 1.225\n",
    "v0_val = 905.0\n",
    "v0_tensor = torch.full((100, 1), v0_val)\n",
    "t_tensor = torch.linspace(0, 5, 100).reshape(-1, 1)\n",
    "\n",
    "model = PINN()\n",
    "optimizer = torch.optim.Adam(model.parameters(), lr=1e-3)\n",
    "losses = []\n",
    "\n",
    "for epoch in range(5000):\n",
    "    optimizer.zero_grad()\n",
    "    loss = loss_function(model, t_tensor, v0_tensor, m_proj, A_proj, rho, interpolar_cd_tensor)\n",
    "    loss.backward()\n",
    "    optimizer.step()\n",
    "    losses.append(loss.item())\n",
    "    if epoch % 500 == 0:\n",
    "        print(f\"Epoch {epoch}, Loss: {loss.item():.4f}\")"
   ]
  },
  {
   "cell_type": "markdown",
   "id": "5b68b954",
   "metadata": {},
   "source": [
    "## Resultados: Gráficos de Perda e Trajetória"
   ]
  },
  {
   "cell_type": "code",
   "execution_count": null,
   "id": "cec006fc",
   "metadata": {},
   "outputs": [],
   "source": [
    "plt.figure()\n",
    "plt.plot(losses)\n",
    "plt.xlabel(\"Epoch\")\n",
    "plt.ylabel(\"Loss\")\n",
    "plt.title(\"Evolução da Perda (PINN)\")\n",
    "plt.grid(True)\n",
    "plt.show()\n",
    "\n",
    "out_final = model(t_tensor, v0_tensor).detach().numpy()\n",
    "x_final = out_final[:, 0]\n",
    "y_final = out_final[:, 1]\n",
    "alcance_max = np.max(x_final)\n",
    "print(f\"Alcance máximo previsto pela PINN: {alcance_max:.2f} m\")\n",
    "\n",
    "plt.figure()\n",
    "plt.plot(x_final, y_final)\n",
    "plt.xlabel(\"x (m)\")\n",
    "plt.ylabel(\"y (m)\")\n",
    "plt.title(\"Trajetória prevista pela PINN\")\n",
    "plt.grid(True)\n",
    "plt.show()"
   ]
  }
 ],
 "metadata": {},
 "nbformat": 4,
 "nbformat_minor": 5
}
