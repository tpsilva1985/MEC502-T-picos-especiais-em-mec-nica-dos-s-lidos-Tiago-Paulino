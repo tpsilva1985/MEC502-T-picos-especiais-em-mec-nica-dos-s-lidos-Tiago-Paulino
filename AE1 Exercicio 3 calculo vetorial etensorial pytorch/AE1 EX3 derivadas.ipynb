{
 "cells": [
  {
   "cell_type": "code",
   "execution_count": 1,
   "id": "1531a17c-3d4d-49a7-84ce-5843ba755dfc",
   "metadata": {},
   "outputs": [],
   "source": [
    "import torch\n",
    "import math\n",
    "import pandas as pd\n",
    "\n",
    "# Usaremos float64 para melhor precisão numérica\n",
    "torch.set_default_dtype(torch.float64)\n",
    "\n",
    "def grad_autograd(f, x):\n",
    "    \"\"\"Retorna gradiente de f em x, mantendo grafo para segunda ordem.\"\"\"\n",
    "    x_ = x.clone().detach().requires_grad_(True)\n",
    "    y = f(x_)\n",
    "    if y.ndim != 0:\n",
    "        raise ValueError(\"A função f deve retornar um escalar.\")\n",
    "    g, = torch.autograd.grad(y, x_, create_graph=True)\n",
    "    return y, g, x_\n",
    "\n",
    "def hessian_autograd(f, x):\n",
    "    \"\"\"Retorna valor, gradiente e Hessiana de f em x.\"\"\"\n",
    "    y, g, x_ = grad_autograd(f, x)\n",
    "    H_rows = []\n",
    "    for i in range(x_.numel()):\n",
    "        row_i, = torch.autograd.grad(g[i], x_, retain_graph=True, create_graph=True)\n",
    "        H_rows.append(row_i)\n",
    "    H = torch.stack(H_rows)\n",
    "    return y, g, H"
   ]
  },
  {
   "cell_type": "code",
   "execution_count": 2,
   "id": "de2f9fb3-475a-45b9-bad6-0ea3ebd23f01",
   "metadata": {},
   "outputs": [],
   "source": [
    "\n",
    "def directional_derivative(f, x, v):\n",
    "    \"\"\"Derivada direcional de f em x na direção v (normalizada).\"\"\"\n",
    "    v = v.clone().detach().to(x)\n",
    "    v = v / v.norm()\n",
    "    _, g, _ = grad_autograd(f, x)\n",
    "    return torch.dot(g, v)\n",
    "\n",
    "def df_grad_to_table(g, names):\n",
    "    return pd.DataFrame({\"variável\": names, \"∂f/∂variável\": [float(gi) for gi in g.detach()]})\n",
    "\n",
    "def df_hessian_to_table(H, names):\n",
    "    return pd.DataFrame(H.detach().numpy(), index=names, columns=names)\n"
   ]
  },
  {
   "cell_type": "markdown",
   "id": "6f91b9f8-023f-4b70-a7df-e4c033ce9c0b",
   "metadata": {},
   "source": [
    "# --- Exemplo 1: Polinômio em 3 variáveis ---\n",
    "names1 = [\"x\",\"y\",\"z\"]\n",
    "def f1(u):\n",
    "    x, y, z = u\n",
    "    return 2*x**3 - y**2 * z + 4*x*z - 5*y + 7\n",
    "\n",
    "p1 = torch.tensor([1.0, -2.0, 0.5])  # ponto de avaliação\n",
    "v1 = torch.tensor([1.0, 1.0, -1.0])  # direção qualquer\n",
    "\n",
    "y1, g1, H1 = hessian_autograd(f1, p1)\n",
    "lap1 = torch.trace(H1)\n",
    "dir1 = directional_derivative(f1, p1, v1)\n",
    "\n",
    "print(\"f(p1) =\", float(y1))\n",
    "display(df_grad_to_table(g1, names1))\n",
    "display(df_hessian_to_table(H1, names1))\n",
    "print(\"Laplaciano =\", float(lap1))\n",
    "print(\"Derivada direcional na direção v1 =\", float(dir1))\n"
   ]
  },
  {
   "cell_type": "code",
   "execution_count": 5,
   "id": "0ad82c53-bba8-4b3c-ba3c-2474626bcaad",
   "metadata": {
    "scrolled": true
   },
   "outputs": [
    {
     "name": "stdout",
     "output_type": "stream",
     "text": [
      "f(p2) = 1.324190308894441\n"
     ]
    },
    {
     "data": {
      "text/html": [
       "<div>\n",
       "<style scoped>\n",
       "    .dataframe tbody tr th:only-of-type {\n",
       "        vertical-align: middle;\n",
       "    }\n",
       "\n",
       "    .dataframe tbody tr th {\n",
       "        vertical-align: top;\n",
       "    }\n",
       "\n",
       "    .dataframe thead th {\n",
       "        text-align: right;\n",
       "    }\n",
       "</style>\n",
       "<table border=\"1\" class=\"dataframe\">\n",
       "  <thead>\n",
       "    <tr style=\"text-align: right;\">\n",
       "      <th></th>\n",
       "      <th>variável</th>\n",
       "      <th>∂f/∂variável</th>\n",
       "    </tr>\n",
       "  </thead>\n",
       "  <tbody>\n",
       "    <tr>\n",
       "      <th>0</th>\n",
       "      <td>x</td>\n",
       "      <td>1.529635</td>\n",
       "    </tr>\n",
       "    <tr>\n",
       "      <th>1</th>\n",
       "      <td>y</td>\n",
       "      <td>0.663610</td>\n",
       "    </tr>\n",
       "  </tbody>\n",
       "</table>\n",
       "</div>"
      ],
      "text/plain": [
       "  variável  ∂f/∂variável\n",
       "0        x      1.529635\n",
       "1        y      0.663610"
      ]
     },
     "metadata": {},
     "output_type": "display_data"
    },
    {
     "data": {
      "text/html": [
       "<div>\n",
       "<style scoped>\n",
       "    .dataframe tbody tr th:only-of-type {\n",
       "        vertical-align: middle;\n",
       "    }\n",
       "\n",
       "    .dataframe tbody tr th {\n",
       "        vertical-align: top;\n",
       "    }\n",
       "\n",
       "    .dataframe thead th {\n",
       "        text-align: right;\n",
       "    }\n",
       "</style>\n",
       "<table border=\"1\" class=\"dataframe\">\n",
       "  <thead>\n",
       "    <tr style=\"text-align: right;\">\n",
       "      <th></th>\n",
       "      <th>x</th>\n",
       "      <th>y</th>\n",
       "    </tr>\n",
       "  </thead>\n",
       "  <tbody>\n",
       "    <tr>\n",
       "      <th>x</th>\n",
       "      <td>0.297198</td>\n",
       "      <td>1.844395</td>\n",
       "    </tr>\n",
       "    <tr>\n",
       "      <th>y</th>\n",
       "      <td>1.844395</td>\n",
       "      <td>-0.750000</td>\n",
       "    </tr>\n",
       "  </tbody>\n",
       "</table>\n",
       "</div>"
      ],
      "text/plain": [
       "          x         y\n",
       "x  0.297198  1.844395\n",
       "y  1.844395 -0.750000"
      ]
     },
     "metadata": {},
     "output_type": "display_data"
    },
    {
     "name": "stdout",
     "output_type": "stream",
     "text": [
      "Laplaciano = -0.45280244880340237\n",
      "Derivada direcional na direção v2 = 0.09052291633407024\n"
     ]
    }
   ],
   "source": [
    "# --- Exemplo 2: Trigonométrica mista em 2 variáveis ---\n",
    "names2 = [\"x\",\"y\"]\n",
    "def f2(u):\n",
    "    x, y = u\n",
    "    return torch.sin(x)*torch.cos(y) + x**2 * y\n",
    "\n",
    "p2 = torch.tensor([math.pi/3, math.pi/6])\n",
    "v2 = torch.tensor([0.5, -1.0])\n",
    "\n",
    "y2, g2, H2 = hessian_autograd(f2, p2)\n",
    "lap2 = torch.trace(H2)\n",
    "dir2 = directional_derivative(f2, p2, v2)\n",
    "\n",
    "print(\"f(p2) =\", float(y2))\n",
    "display(df_grad_to_table(g2, names2))\n",
    "display(df_hessian_to_table(H2, names2))\n",
    "print(\"Laplaciano =\", float(lap2))\n",
    "print(\"Derivada direcional na direção v2 =\", float(dir2))\n"
   ]
  },
  {
   "cell_type": "code",
   "execution_count": null,
   "id": "9e708216-0533-48fa-bf2b-1d8b7ae219f7",
   "metadata": {},
   "outputs": [],
   "source": []
  }
 ],
 "metadata": {
  "kernelspec": {
   "display_name": "anaconda-ai-2024.04-py310",
   "language": "python",
   "name": "conda-env-anaconda-ai-2024.04-py310-py"
  },
  "language_info": {
   "codemirror_mode": {
    "name": "ipython",
    "version": 3
   },
   "file_extension": ".py",
   "mimetype": "text/x-python",
   "name": "python",
   "nbconvert_exporter": "python",
   "pygments_lexer": "ipython3",
   "version": "3.10.13"
  }
 },
 "nbformat": 4,
 "nbformat_minor": 5
}
