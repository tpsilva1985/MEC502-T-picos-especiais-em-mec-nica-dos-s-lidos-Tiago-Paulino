{
 "cells": [
  {
   "cell_type": "code",
   "execution_count": 2,
   "id": "68d1b483-8f34-471c-9693-2f946cc798d6",
   "metadata": {},
   "outputs": [],
   "source": [
    "import torch, math\n",
    "import pandas as pd\n",
    "from IPython.display import display\n",
    "\n",
    "torch.set_default_dtype(torch.float64)\n",
    "\n",
    "# ===== Utilitários de derivação =====\n",
    "def grad_scalar(f, x):\n",
    "    x_ = x.clone().detach().requires_grad_(True)\n",
    "    y = f(x_)\n",
    "    if y.ndim != 0:\n",
    "        raise ValueError('f(x) deve retornar um escalar para gradiente.')\n",
    "    g, = torch.autograd.grad(y, x_, create_graph=True)\n",
    "    return y, g, x_\n",
    "\n",
    "def hessian_scalar(f, x):\n",
    "    y, g, x_ = grad_scalar(f, x)\n",
    "    rows = []\n",
    "    for i in range(x_.numel()):\n",
    "        gi, = torch.autograd.grad(g[i], x_, retain_graph=True, create_graph=True)\n",
    "        rows.append(gi)\n",
    "    H = torch.stack(rows)\n",
    "    return y, g, H\n",
    "\n",
    "\n",
    "def jacobian_vector(F, x):\n",
    "    x_ = x.clone().detach().requires_grad_(True)\n",
    "    y = F(x_)\n",
    "    if y.ndim != 1:\n",
    "        raise ValueError('F(x) deve retornar um vetor 1D para Jacobiano.')\n",
    "    rows = []\n",
    "    for i in range(y.numel()):\n",
    "        Ji, = torch.autograd.grad(y[i], x_, retain_graph=True, create_graph=True)\n",
    "        rows.append(Ji)\n",
    "    J = torch.stack(rows)  # (m, n) com m = componentes de F, n = variáveis\n",
    "    return y, J, x_\n",
    "\n",
    "def divergence(F, x):\n",
    "    y, J, _ = jacobian_vector(F, x)\n",
    "    if J.shape[0] != x.numel():\n",
    "        raise ValueError('Para divergente, F deve ter o mesmo nº de componentes de x.')\n",
    "    return torch.trace(J)\n",
    "\n",
    "\n",
    "def curl3(F, x):\n",
    "    # Rotacional em R^3\n",
    "    if x.numel() != 3:\n",
    "        raise ValueError('curl3 exige x em R^3.')\n",
    "    y, J, _ = jacobian_vector(F, x)  # J[i,j] = dF_i/dx_j\n",
    "    if y.numel() != 3:\n",
    "        raise ValueError('curl3 exige F: R^3 -> R^3.')\n",
    "    return torch.stack([\n",
    "        J[2,1] - J[1,2],\n",
    "        J[0,2] - J[2,0],\n",
    "        J[1,0] - J[0,1]\n",
    "    ])\n",
    "\n",
    "def curl2(F, x):\n",
    "    # Versão 2D (componente k): ∂Fy/∂x - ∂Fx/∂y\n",
    "    if x.numel() != 2:\n",
    "        raise ValueError('curl2 exige x em R^2.')\n",
    "    y, J, _ = jacobian_vector(F, x)\n",
    "    if y.numel() != 2:\n",
    "        raise ValueError('curl2 exige F: R^2 -> R^2.')\n",
    "    return J[1,0] - J[0,1]\n",
    "\n",
    "# ===== Utilitários de exibição =====\n",
    "def df_vec(v, names, title=None):\n",
    "    df = pd.DataFrame({\"nome\": names, \"valor\": [float(vi) for vi in v.detach()]})\n",
    "    if title: print(title)\n",
    "    display(df)\n",
    "\n",
    "def df_mat(M, row_names=None, col_names=None, title=None):\n",
    "    df = pd.DataFrame(M.detach().numpy(), index=row_names, columns=col_names)\n",
    "    if title: print(title)\n",
    "    display(df)"
   ]
  },
  {
   "cell_type": "code",
   "execution_count": 3,
   "id": "efd94fb2-e1bb-4f7c-aa15-aab3078b1407",
   "metadata": {},
   "outputs": [
    {
     "name": "stdout",
     "output_type": "stream",
     "text": [
      "f(p) = -0.020574461395796995\n",
      "Gradiente ∇f\n"
     ]
    },
    {
     "data": {
      "text/html": [
       "<div>\n",
       "<style scoped>\n",
       "    .dataframe tbody tr th:only-of-type {\n",
       "        vertical-align: middle;\n",
       "    }\n",
       "\n",
       "    .dataframe tbody tr th {\n",
       "        vertical-align: top;\n",
       "    }\n",
       "\n",
       "    .dataframe thead th {\n",
       "        text-align: right;\n",
       "    }\n",
       "</style>\n",
       "<table border=\"1\" class=\"dataframe\">\n",
       "  <thead>\n",
       "    <tr style=\"text-align: right;\">\n",
       "      <th></th>\n",
       "      <th>nome</th>\n",
       "      <th>valor</th>\n",
       "    </tr>\n",
       "  </thead>\n",
       "  <tbody>\n",
       "    <tr>\n",
       "      <th>0</th>\n",
       "      <td>x</td>\n",
       "      <td>1.000000</td>\n",
       "    </tr>\n",
       "    <tr>\n",
       "      <th>1</th>\n",
       "      <td>y</td>\n",
       "      <td>1.250000</td>\n",
       "    </tr>\n",
       "    <tr>\n",
       "      <th>2</th>\n",
       "      <td>z</td>\n",
       "      <td>2.877583</td>\n",
       "    </tr>\n",
       "  </tbody>\n",
       "</table>\n",
       "</div>"
      ],
      "text/plain": [
       "  nome     valor\n",
       "0    x  1.000000\n",
       "1    y  1.250000\n",
       "2    z  2.877583"
      ]
     },
     "metadata": {},
     "output_type": "display_data"
    },
    {
     "name": "stdout",
     "output_type": "stream",
     "text": [
      "Hessiana ∇²f\n"
     ]
    },
    {
     "data": {
      "text/html": [
       "<div>\n",
       "<style scoped>\n",
       "    .dataframe tbody tr th:only-of-type {\n",
       "        vertical-align: middle;\n",
       "    }\n",
       "\n",
       "    .dataframe tbody tr th {\n",
       "        vertical-align: top;\n",
       "    }\n",
       "\n",
       "    .dataframe thead th {\n",
       "        text-align: right;\n",
       "    }\n",
       "</style>\n",
       "<table border=\"1\" class=\"dataframe\">\n",
       "  <thead>\n",
       "    <tr style=\"text-align: right;\">\n",
       "      <th></th>\n",
       "      <th>x</th>\n",
       "      <th>y</th>\n",
       "      <th>z</th>\n",
       "    </tr>\n",
       "  </thead>\n",
       "  <tbody>\n",
       "    <tr>\n",
       "      <th>x</th>\n",
       "      <td>4.0</td>\n",
       "      <td>2.0</td>\n",
       "      <td>0.000000</td>\n",
       "    </tr>\n",
       "    <tr>\n",
       "      <th>y</th>\n",
       "      <td>2.0</td>\n",
       "      <td>0.0</td>\n",
       "      <td>1.000000</td>\n",
       "    </tr>\n",
       "    <tr>\n",
       "      <th>z</th>\n",
       "      <td>0.0</td>\n",
       "      <td>1.0</td>\n",
       "      <td>3.520574</td>\n",
       "    </tr>\n",
       "  </tbody>\n",
       "</table>\n",
       "</div>"
      ],
      "text/plain": [
       "     x    y         z\n",
       "x  4.0  2.0  0.000000\n",
       "y  2.0  0.0  1.000000\n",
       "z  0.0  1.0  3.520574"
      ]
     },
     "metadata": {},
     "output_type": "display_data"
    }
   ],
   "source": [
    "names = ['x','y','z']\n",
    "def f(u):\n",
    "    x, y, z = u\n",
    "    return x**2 * y + torch.sin(z) + y*z**2 - 3*x\n",
    "\n",
    "p = torch.tensor([1.0, 2.0, 0.5])\n",
    "val, g, H = hessian_scalar(f, p)\n",
    "print('f(p) =', float(val))\n",
    "df_vec(g, names, 'Gradiente ∇f')\n",
    "df_mat(H, names, names, 'Hessiana ∇²f')"
   ]
  },
  {
   "cell_type": "code",
   "execution_count": 4,
   "id": "658d2f80-b01b-46c4-8494-a3465d007dd5",
   "metadata": {},
   "outputs": [
    {
     "name": "stdout",
     "output_type": "stream",
     "text": [
      "F(q)\n"
     ]
    },
    {
     "data": {
      "text/html": [
       "<div>\n",
       "<style scoped>\n",
       "    .dataframe tbody tr th:only-of-type {\n",
       "        vertical-align: middle;\n",
       "    }\n",
       "\n",
       "    .dataframe tbody tr th {\n",
       "        vertical-align: top;\n",
       "    }\n",
       "\n",
       "    .dataframe thead th {\n",
       "        text-align: right;\n",
       "    }\n",
       "</style>\n",
       "<table border=\"1\" class=\"dataframe\">\n",
       "  <thead>\n",
       "    <tr style=\"text-align: right;\">\n",
       "      <th></th>\n",
       "      <th>nome</th>\n",
       "      <th>valor</th>\n",
       "    </tr>\n",
       "  </thead>\n",
       "  <tbody>\n",
       "    <tr>\n",
       "      <th>0</th>\n",
       "      <td>F1</td>\n",
       "      <td>2.000000</td>\n",
       "    </tr>\n",
       "    <tr>\n",
       "      <th>1</th>\n",
       "      <td>F2</td>\n",
       "      <td>6.000000</td>\n",
       "    </tr>\n",
       "    <tr>\n",
       "      <th>2</th>\n",
       "      <td>F3</td>\n",
       "      <td>9.841471</td>\n",
       "    </tr>\n",
       "  </tbody>\n",
       "</table>\n",
       "</div>"
      ],
      "text/plain": [
       "  nome     valor\n",
       "0   F1  2.000000\n",
       "1   F2  6.000000\n",
       "2   F3  9.841471"
      ]
     },
     "metadata": {},
     "output_type": "display_data"
    },
    {
     "name": "stdout",
     "output_type": "stream",
     "text": [
      "Jacobiano J_F\n"
     ]
    },
    {
     "data": {
      "text/html": [
       "<div>\n",
       "<style scoped>\n",
       "    .dataframe tbody tr th:only-of-type {\n",
       "        vertical-align: middle;\n",
       "    }\n",
       "\n",
       "    .dataframe tbody tr th {\n",
       "        vertical-align: top;\n",
       "    }\n",
       "\n",
       "    .dataframe thead th {\n",
       "        text-align: right;\n",
       "    }\n",
       "</style>\n",
       "<table border=\"1\" class=\"dataframe\">\n",
       "  <thead>\n",
       "    <tr style=\"text-align: right;\">\n",
       "      <th></th>\n",
       "      <th>x</th>\n",
       "      <th>y</th>\n",
       "      <th>z</th>\n",
       "    </tr>\n",
       "  </thead>\n",
       "  <tbody>\n",
       "    <tr>\n",
       "      <th>F1</th>\n",
       "      <td>2.000000</td>\n",
       "      <td>1.0</td>\n",
       "      <td>0.0</td>\n",
       "    </tr>\n",
       "    <tr>\n",
       "      <th>F2</th>\n",
       "      <td>0.000000</td>\n",
       "      <td>3.0</td>\n",
       "      <td>2.0</td>\n",
       "    </tr>\n",
       "    <tr>\n",
       "      <th>F3</th>\n",
       "      <td>0.540302</td>\n",
       "      <td>0.0</td>\n",
       "      <td>6.0</td>\n",
       "    </tr>\n",
       "  </tbody>\n",
       "</table>\n",
       "</div>"
      ],
      "text/plain": [
       "           x    y    z\n",
       "F1  2.000000  1.0  0.0\n",
       "F2  0.000000  3.0  2.0\n",
       "F3  0.540302  0.0  6.0"
      ]
     },
     "metadata": {},
     "output_type": "display_data"
    },
    {
     "name": "stdout",
     "output_type": "stream",
     "text": [
      "div F(q) = 11.0\n",
      "Rotacional ∇×F (3D)\n"
     ]
    },
    {
     "data": {
      "text/html": [
       "<div>\n",
       "<style scoped>\n",
       "    .dataframe tbody tr th:only-of-type {\n",
       "        vertical-align: middle;\n",
       "    }\n",
       "\n",
       "    .dataframe tbody tr th {\n",
       "        vertical-align: top;\n",
       "    }\n",
       "\n",
       "    .dataframe thead th {\n",
       "        text-align: right;\n",
       "    }\n",
       "</style>\n",
       "<table border=\"1\" class=\"dataframe\">\n",
       "  <thead>\n",
       "    <tr style=\"text-align: right;\">\n",
       "      <th></th>\n",
       "      <th>nome</th>\n",
       "      <th>valor</th>\n",
       "    </tr>\n",
       "  </thead>\n",
       "  <tbody>\n",
       "    <tr>\n",
       "      <th>0</th>\n",
       "      <td>i</td>\n",
       "      <td>-2.000000</td>\n",
       "    </tr>\n",
       "    <tr>\n",
       "      <th>1</th>\n",
       "      <td>j</td>\n",
       "      <td>-0.540302</td>\n",
       "    </tr>\n",
       "    <tr>\n",
       "      <th>2</th>\n",
       "      <td>k</td>\n",
       "      <td>-1.000000</td>\n",
       "    </tr>\n",
       "  </tbody>\n",
       "</table>\n",
       "</div>"
      ],
      "text/plain": [
       "  nome     valor\n",
       "0    i -2.000000\n",
       "1    j -0.540302\n",
       "2    k -1.000000"
      ]
     },
     "metadata": {},
     "output_type": "display_data"
    }
   ],
   "source": [
    "names3 = ['x','y','z']\n",
    "comp_names = ['F1','F2','F3']\n",
    "def F(u):\n",
    "    x, y, z = u\n",
    "    return torch.stack([x*y, y*z, torch.sin(x) + z**2])\n",
    "\n",
    "q = torch.tensor([1.0, 2.0, 3.0])\n",
    "Fval, J, _ = jacobian_vector(F, q)\n",
    "divF = divergence(F, q)\n",
    "curlF = curl3(F, q)\n",
    "df_vec(Fval, comp_names, 'F(q)')\n",
    "df_mat(J, comp_names, names3, 'Jacobiano J_F')\n",
    "print('div F(q) =', float(divF))\n",
    "df_vec(curlF, ['i','j','k'], 'Rotacional ∇×F (3D)')"
   ]
  },
  {
   "cell_type": "code",
   "execution_count": 5,
   "id": "a4b3acf2-deb1-4a07-bade-d95a4cc2a5ba",
   "metadata": {},
   "outputs": [
    {
     "name": "stdout",
     "output_type": "stream",
     "text": [
      "G(r)\n"
     ]
    },
    {
     "data": {
      "text/html": [
       "<div>\n",
       "<style scoped>\n",
       "    .dataframe tbody tr th:only-of-type {\n",
       "        vertical-align: middle;\n",
       "    }\n",
       "\n",
       "    .dataframe tbody tr th {\n",
       "        vertical-align: top;\n",
       "    }\n",
       "\n",
       "    .dataframe thead th {\n",
       "        text-align: right;\n",
       "    }\n",
       "</style>\n",
       "<table border=\"1\" class=\"dataframe\">\n",
       "  <thead>\n",
       "    <tr style=\"text-align: right;\">\n",
       "      <th></th>\n",
       "      <th>nome</th>\n",
       "      <th>valor</th>\n",
       "    </tr>\n",
       "  </thead>\n",
       "  <tbody>\n",
       "    <tr>\n",
       "      <th>0</th>\n",
       "      <td>G1</td>\n",
       "      <td>1.616850</td>\n",
       "    </tr>\n",
       "    <tr>\n",
       "      <th>1</th>\n",
       "      <td>G2</td>\n",
       "      <td>-0.078291</td>\n",
       "    </tr>\n",
       "  </tbody>\n",
       "</table>\n",
       "</div>"
      ],
      "text/plain": [
       "  nome     valor\n",
       "0   G1  1.616850\n",
       "1   G2 -0.078291"
      ]
     },
     "metadata": {},
     "output_type": "display_data"
    },
    {
     "name": "stdout",
     "output_type": "stream",
     "text": [
      "Jacobiano J_G\n"
     ]
    },
    {
     "data": {
      "text/html": [
       "<div>\n",
       "<style scoped>\n",
       "    .dataframe tbody tr th:only-of-type {\n",
       "        vertical-align: middle;\n",
       "    }\n",
       "\n",
       "    .dataframe tbody tr th {\n",
       "        vertical-align: top;\n",
       "    }\n",
       "\n",
       "    .dataframe thead th {\n",
       "        text-align: right;\n",
       "    }\n",
       "</style>\n",
       "<table border=\"1\" class=\"dataframe\">\n",
       "  <thead>\n",
       "    <tr style=\"text-align: right;\">\n",
       "      <th></th>\n",
       "      <th>x</th>\n",
       "      <th>y</th>\n",
       "    </tr>\n",
       "  </thead>\n",
       "  <tbody>\n",
       "    <tr>\n",
       "      <th>G1</th>\n",
       "      <td>1.570796</td>\n",
       "      <td>-1.000000</td>\n",
       "    </tr>\n",
       "    <tr>\n",
       "      <th>G2</th>\n",
       "      <td>-1.707107</td>\n",
       "      <td>0.785398</td>\n",
       "    </tr>\n",
       "  </tbody>\n",
       "</table>\n",
       "</div>"
      ],
      "text/plain": [
       "           x         y\n",
       "G1  1.570796 -1.000000\n",
       "G2 -1.707107  0.785398"
      ]
     },
     "metadata": {},
     "output_type": "display_data"
    },
    {
     "name": "stdout",
     "output_type": "stream",
     "text": [
      "div G(r) = 2.356194490192345\n",
      "curl (2D) = ∂G_y/∂x - ∂G_x/∂y = -0.7071067811865475\n"
     ]
    }
   ],
   "source": [
    "names2 = ['x','y']\n",
    "comp2 = ['G1','G2']\n",
    "def G(u):\n",
    "    x, y = u\n",
    "    return torch.stack([x**2 - y, x*y + torch.cos(x)])\n",
    "\n",
    "r = torch.tensor([math.pi/4, -1.0])\n",
    "Gval, Jg, _ = jacobian_vector(G, r)\n",
    "divG = divergence(G, r)\n",
    "curlG = curl2(G, r)\n",
    "df_vec(Gval, comp2, 'G(r)')\n",
    "df_mat(Jg, comp2, names2, 'Jacobiano J_G')\n",
    "print('div G(r) =', float(divG))\n",
    "print('curl (2D) = ∂G_y/∂x - ∂G_x/∂y =', float(curlG))"
   ]
  },
  {
   "cell_type": "code",
   "execution_count": null,
   "id": "c25c0d27-3bfe-4c18-b748-bdfdf649a6c5",
   "metadata": {},
   "outputs": [],
   "source": []
  }
 ],
 "metadata": {
  "kernelspec": {
   "display_name": "anaconda-ai-2024.04-py310",
   "language": "python",
   "name": "conda-env-anaconda-ai-2024.04-py310-py"
  },
  "language_info": {
   "codemirror_mode": {
    "name": "ipython",
    "version": 3
   },
   "file_extension": ".py",
   "mimetype": "text/x-python",
   "name": "python",
   "nbconvert_exporter": "python",
   "pygments_lexer": "ipython3",
   "version": "3.10.13"
  }
 },
 "nbformat": 4,
 "nbformat_minor": 5
}
