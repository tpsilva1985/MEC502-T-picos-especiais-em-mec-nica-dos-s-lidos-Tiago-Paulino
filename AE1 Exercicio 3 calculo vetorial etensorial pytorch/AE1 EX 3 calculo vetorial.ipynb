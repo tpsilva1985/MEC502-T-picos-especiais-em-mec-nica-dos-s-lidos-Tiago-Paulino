{
 "cells": [
  {
   "cell_type": "code",
   "execution_count": 1,
   "id": "83f466d5-4517-4428-b0ca-1f3da95c89b2",
   "metadata": {},
   "outputs": [],
   "source": [
    "import torch\n",
    "import math\n",
    "import pandas as pd\n",
    "from IPython.display import display\n",
    "\n",
    "torch.set_default_dtype(torch.float64)\n",
    "\n",
    "def df_matrix(M, name=None, index=None, columns=None):\n",
    "    df = pd.DataFrame(M.detach().numpy(), index=index, columns=columns)\n",
    "    if name:\n",
    "        print(name)\n",
    "    display(df)\n",
    "    return df\n"
   ]
  },
  {
   "cell_type": "code",
   "execution_count": 2,
   "id": "f1d7d526-e41c-47f9-a292-40c36a503b6e",
   "metadata": {},
   "outputs": [
    {
     "name": "stdout",
     "output_type": "stream",
     "text": [
      "a = tensor([ 1.,  2., -1.])\n",
      "b = tensor([3., 0., 4.])\n",
      "\n",
      "Produto escalar a·b = -1.0\n",
      "b·a = -1.0\n",
      "||a||= 2.449489742783178 ||b||= 5.0 theta(deg)= 94.68339444217581\n",
      "\n",
      "Produto vetorial a×b = tensor([ 8., -7., -6.])\n",
      "b×a = tensor([-8.,  7.,  6.])\n",
      "a·(a×b) ~ 0 ? => 0.0\n",
      "b·(a×b) ~ 0 ? => 0.0\n",
      "||a×b|| e ||a||·||b||·sen(theta): 12.206555615733702 12.206555615733702\n",
      "Outer product a ⊗ b\n"
     ]
    },
    {
     "name": "stderr",
     "output_type": "stream",
     "text": [
      "/tmp/ipykernel_2534/4260961162.py:20: UserWarning: Using torch.cross without specifying the dim arg is deprecated.\n",
      "Please either pass the dim explicitly or simply use torch.linalg.cross.\n",
      "The default value of dim will change to agree with that of linalg.cross in a future release. (Triggered internally at /croot/pytorch-select_1707782759820/work/aten/src/ATen/native/Cross.cpp:63.)\n",
      "  cross_ab = torch.cross(a, b)\n"
     ]
    },
    {
     "data": {
      "text/html": [
       "<div>\n",
       "<style scoped>\n",
       "    .dataframe tbody tr th:only-of-type {\n",
       "        vertical-align: middle;\n",
       "    }\n",
       "\n",
       "    .dataframe tbody tr th {\n",
       "        vertical-align: top;\n",
       "    }\n",
       "\n",
       "    .dataframe thead th {\n",
       "        text-align: right;\n",
       "    }\n",
       "</style>\n",
       "<table border=\"1\" class=\"dataframe\">\n",
       "  <thead>\n",
       "    <tr style=\"text-align: right;\">\n",
       "      <th></th>\n",
       "      <th>0</th>\n",
       "      <th>1</th>\n",
       "      <th>2</th>\n",
       "    </tr>\n",
       "  </thead>\n",
       "  <tbody>\n",
       "    <tr>\n",
       "      <th>0</th>\n",
       "      <td>3.0</td>\n",
       "      <td>0.0</td>\n",
       "      <td>4.0</td>\n",
       "    </tr>\n",
       "    <tr>\n",
       "      <th>1</th>\n",
       "      <td>6.0</td>\n",
       "      <td>0.0</td>\n",
       "      <td>8.0</td>\n",
       "    </tr>\n",
       "    <tr>\n",
       "      <th>2</th>\n",
       "      <td>-3.0</td>\n",
       "      <td>-0.0</td>\n",
       "      <td>-4.0</td>\n",
       "    </tr>\n",
       "  </tbody>\n",
       "</table>\n",
       "</div>"
      ],
      "text/plain": [
       "     0    1    2\n",
       "0  3.0  0.0  4.0\n",
       "1  6.0  0.0  8.0\n",
       "2 -3.0 -0.0 -4.0"
      ]
     },
     "metadata": {},
     "output_type": "display_data"
    },
    {
     "data": {
      "text/html": [
       "<div>\n",
       "<style scoped>\n",
       "    .dataframe tbody tr th:only-of-type {\n",
       "        vertical-align: middle;\n",
       "    }\n",
       "\n",
       "    .dataframe tbody tr th {\n",
       "        vertical-align: top;\n",
       "    }\n",
       "\n",
       "    .dataframe thead th {\n",
       "        text-align: right;\n",
       "    }\n",
       "</style>\n",
       "<table border=\"1\" class=\"dataframe\">\n",
       "  <thead>\n",
       "    <tr style=\"text-align: right;\">\n",
       "      <th></th>\n",
       "      <th>0</th>\n",
       "      <th>1</th>\n",
       "      <th>2</th>\n",
       "    </tr>\n",
       "  </thead>\n",
       "  <tbody>\n",
       "    <tr>\n",
       "      <th>0</th>\n",
       "      <td>3.0</td>\n",
       "      <td>0.0</td>\n",
       "      <td>4.0</td>\n",
       "    </tr>\n",
       "    <tr>\n",
       "      <th>1</th>\n",
       "      <td>6.0</td>\n",
       "      <td>0.0</td>\n",
       "      <td>8.0</td>\n",
       "    </tr>\n",
       "    <tr>\n",
       "      <th>2</th>\n",
       "      <td>-3.0</td>\n",
       "      <td>-0.0</td>\n",
       "      <td>-4.0</td>\n",
       "    </tr>\n",
       "  </tbody>\n",
       "</table>\n",
       "</div>"
      ],
      "text/plain": [
       "     0    1    2\n",
       "0  3.0  0.0  4.0\n",
       "1  6.0  0.0  8.0\n",
       "2 -3.0 -0.0 -4.0"
      ]
     },
     "execution_count": 2,
     "metadata": {},
     "output_type": "execute_result"
    }
   ],
   "source": [
    "# Vetores em R^3\n",
    "a = torch.tensor([1.0, 2.0, -1.0])\n",
    "b = torch.tensor([3.0, 0.0, 4.0])\n",
    "print('a =', a)\n",
    "print('b =', b)\n",
    "\n",
    "# Produto escalar (comutativo)\n",
    "dot_ab = torch.dot(a, b)\n",
    "print('\\nProduto escalar a·b =', float(dot_ab))\n",
    "print('b·a =', float(torch.dot(b, a)))\n",
    "\n",
    "# Relação com o ângulo: a·b = ||a|| ||b|| cos(theta)\n",
    "na, nb = torch.norm(a), torch.norm(b)\n",
    "cos_th = dot_ab / (na * nb)\n",
    "cos_th = torch.clamp(cos_th, -1.0, 1.0)\n",
    "theta = torch.acos(cos_th)\n",
    "print('||a||=', float(na), '||b||=', float(nb), 'theta(deg)=', float(theta*180/math.pi))\n",
    "\n",
    "# Produto vetorial (anti-comutativo): a x b = - (b x a)\n",
    "cross_ab = torch.cross(a, b)\n",
    "cross_ba = torch.cross(b, a)\n",
    "print('\\nProduto vetorial a×b =', cross_ab)\n",
    "print('b×a =', cross_ba)\n",
    "print('a·(a×b) ~ 0 ? =>', float(torch.dot(a, cross_ab)))\n",
    "print('b·(a×b) ~ 0 ? =>', float(torch.dot(b, cross_ab)))\n",
    "print('||a×b|| e ||a||·||b||·sen(theta):', float(torch.norm(cross_ab)), float(na*nb*torch.sin(theta)))\n",
    "\n",
    "\n",
    "# Produto externo (gera matriz):\n",
    "outer_ab = torch.outer(a, b)\n",
    "df_matrix(outer_ab, 'Outer product a ⊗ b')"
   ]
  },
  {
   "cell_type": "code",
   "execution_count": 3,
   "id": "2e58a829-1f01-4cfe-8172-895cfaf52d71",
   "metadata": {},
   "outputs": [
    {
     "name": "stdout",
     "output_type": "stream",
     "text": [
      "Matriz A (2x3)\n"
     ]
    },
    {
     "data": {
      "text/html": [
       "<div>\n",
       "<style scoped>\n",
       "    .dataframe tbody tr th:only-of-type {\n",
       "        vertical-align: middle;\n",
       "    }\n",
       "\n",
       "    .dataframe tbody tr th {\n",
       "        vertical-align: top;\n",
       "    }\n",
       "\n",
       "    .dataframe thead th {\n",
       "        text-align: right;\n",
       "    }\n",
       "</style>\n",
       "<table border=\"1\" class=\"dataframe\">\n",
       "  <thead>\n",
       "    <tr style=\"text-align: right;\">\n",
       "      <th></th>\n",
       "      <th>0</th>\n",
       "      <th>1</th>\n",
       "      <th>2</th>\n",
       "    </tr>\n",
       "  </thead>\n",
       "  <tbody>\n",
       "    <tr>\n",
       "      <th>0</th>\n",
       "      <td>1.0</td>\n",
       "      <td>-2.0</td>\n",
       "      <td>0.5</td>\n",
       "    </tr>\n",
       "    <tr>\n",
       "      <th>1</th>\n",
       "      <td>3.0</td>\n",
       "      <td>1.0</td>\n",
       "      <td>-1.0</td>\n",
       "    </tr>\n",
       "  </tbody>\n",
       "</table>\n",
       "</div>"
      ],
      "text/plain": [
       "     0    1    2\n",
       "0  1.0 -2.0  0.5\n",
       "1  3.0  1.0 -1.0"
      ]
     },
     "metadata": {},
     "output_type": "display_data"
    },
    {
     "name": "stdout",
     "output_type": "stream",
     "text": [
      "Matriz B (3x2)\n"
     ]
    },
    {
     "data": {
      "text/html": [
       "<div>\n",
       "<style scoped>\n",
       "    .dataframe tbody tr th:only-of-type {\n",
       "        vertical-align: middle;\n",
       "    }\n",
       "\n",
       "    .dataframe tbody tr th {\n",
       "        vertical-align: top;\n",
       "    }\n",
       "\n",
       "    .dataframe thead th {\n",
       "        text-align: right;\n",
       "    }\n",
       "</style>\n",
       "<table border=\"1\" class=\"dataframe\">\n",
       "  <thead>\n",
       "    <tr style=\"text-align: right;\">\n",
       "      <th></th>\n",
       "      <th>0</th>\n",
       "      <th>1</th>\n",
       "    </tr>\n",
       "  </thead>\n",
       "  <tbody>\n",
       "    <tr>\n",
       "      <th>0</th>\n",
       "      <td>2.0</td>\n",
       "      <td>-1.0</td>\n",
       "    </tr>\n",
       "    <tr>\n",
       "      <th>1</th>\n",
       "      <td>0.0</td>\n",
       "      <td>4.0</td>\n",
       "    </tr>\n",
       "    <tr>\n",
       "      <th>2</th>\n",
       "      <td>1.0</td>\n",
       "      <td>3.0</td>\n",
       "    </tr>\n",
       "  </tbody>\n",
       "</table>\n",
       "</div>"
      ],
      "text/plain": [
       "     0    1\n",
       "0  2.0 -1.0\n",
       "1  0.0  4.0\n",
       "2  1.0  3.0"
      ]
     },
     "metadata": {},
     "output_type": "display_data"
    },
    {
     "name": "stdout",
     "output_type": "stream",
     "text": [
      "A @ x = tensor([-3.5000,  6.0000])\n",
      "torch.mv(A, x) = tensor([-3.5000,  6.0000])\n",
      "\n",
      "A @ B =\n"
     ]
    },
    {
     "data": {
      "text/html": [
       "<div>\n",
       "<style scoped>\n",
       "    .dataframe tbody tr th:only-of-type {\n",
       "        vertical-align: middle;\n",
       "    }\n",
       "\n",
       "    .dataframe tbody tr th {\n",
       "        vertical-align: top;\n",
       "    }\n",
       "\n",
       "    .dataframe thead th {\n",
       "        text-align: right;\n",
       "    }\n",
       "</style>\n",
       "<table border=\"1\" class=\"dataframe\">\n",
       "  <thead>\n",
       "    <tr style=\"text-align: right;\">\n",
       "      <th></th>\n",
       "      <th>0</th>\n",
       "      <th>1</th>\n",
       "    </tr>\n",
       "  </thead>\n",
       "  <tbody>\n",
       "    <tr>\n",
       "      <th>0</th>\n",
       "      <td>2.5</td>\n",
       "      <td>-7.5</td>\n",
       "    </tr>\n",
       "    <tr>\n",
       "      <th>1</th>\n",
       "      <td>5.0</td>\n",
       "      <td>-2.0</td>\n",
       "    </tr>\n",
       "  </tbody>\n",
       "</table>\n",
       "</div>"
      ],
      "text/plain": [
       "     0    1\n",
       "0  2.5 -7.5\n",
       "1  5.0 -2.0"
      ]
     },
     "metadata": {},
     "output_type": "display_data"
    },
    {
     "name": "stdout",
     "output_type": "stream",
     "text": [
      "B @ A =\n"
     ]
    },
    {
     "data": {
      "text/html": [
       "<div>\n",
       "<style scoped>\n",
       "    .dataframe tbody tr th:only-of-type {\n",
       "        vertical-align: middle;\n",
       "    }\n",
       "\n",
       "    .dataframe tbody tr th {\n",
       "        vertical-align: top;\n",
       "    }\n",
       "\n",
       "    .dataframe thead th {\n",
       "        text-align: right;\n",
       "    }\n",
       "</style>\n",
       "<table border=\"1\" class=\"dataframe\">\n",
       "  <thead>\n",
       "    <tr style=\"text-align: right;\">\n",
       "      <th></th>\n",
       "      <th>0</th>\n",
       "      <th>1</th>\n",
       "      <th>2</th>\n",
       "    </tr>\n",
       "  </thead>\n",
       "  <tbody>\n",
       "    <tr>\n",
       "      <th>0</th>\n",
       "      <td>-1.0</td>\n",
       "      <td>-5.0</td>\n",
       "      <td>2.0</td>\n",
       "    </tr>\n",
       "    <tr>\n",
       "      <th>1</th>\n",
       "      <td>12.0</td>\n",
       "      <td>4.0</td>\n",
       "      <td>-4.0</td>\n",
       "    </tr>\n",
       "    <tr>\n",
       "      <th>2</th>\n",
       "      <td>10.0</td>\n",
       "      <td>1.0</td>\n",
       "      <td>-2.5</td>\n",
       "    </tr>\n",
       "  </tbody>\n",
       "</table>\n",
       "</div>"
      ],
      "text/plain": [
       "      0    1    2\n",
       "0  -1.0 -5.0  2.0\n",
       "1  12.0  4.0 -4.0\n",
       "2  10.0  1.0 -2.5"
      ]
     },
     "metadata": {},
     "output_type": "display_data"
    },
    {
     "name": "stdout",
     "output_type": "stream",
     "text": [
      "Verificando (AB)^T == B^T A^T -> True\n",
      "(AB)^T\n"
     ]
    },
    {
     "data": {
      "text/html": [
       "<div>\n",
       "<style scoped>\n",
       "    .dataframe tbody tr th:only-of-type {\n",
       "        vertical-align: middle;\n",
       "    }\n",
       "\n",
       "    .dataframe tbody tr th {\n",
       "        vertical-align: top;\n",
       "    }\n",
       "\n",
       "    .dataframe thead th {\n",
       "        text-align: right;\n",
       "    }\n",
       "</style>\n",
       "<table border=\"1\" class=\"dataframe\">\n",
       "  <thead>\n",
       "    <tr style=\"text-align: right;\">\n",
       "      <th></th>\n",
       "      <th>0</th>\n",
       "      <th>1</th>\n",
       "    </tr>\n",
       "  </thead>\n",
       "  <tbody>\n",
       "    <tr>\n",
       "      <th>0</th>\n",
       "      <td>2.5</td>\n",
       "      <td>5.0</td>\n",
       "    </tr>\n",
       "    <tr>\n",
       "      <th>1</th>\n",
       "      <td>-7.5</td>\n",
       "      <td>-2.0</td>\n",
       "    </tr>\n",
       "  </tbody>\n",
       "</table>\n",
       "</div>"
      ],
      "text/plain": [
       "     0    1\n",
       "0  2.5  5.0\n",
       "1 -7.5 -2.0"
      ]
     },
     "metadata": {},
     "output_type": "display_data"
    },
    {
     "name": "stdout",
     "output_type": "stream",
     "text": [
      "B^T A^T\n"
     ]
    },
    {
     "data": {
      "text/html": [
       "<div>\n",
       "<style scoped>\n",
       "    .dataframe tbody tr th:only-of-type {\n",
       "        vertical-align: middle;\n",
       "    }\n",
       "\n",
       "    .dataframe tbody tr th {\n",
       "        vertical-align: top;\n",
       "    }\n",
       "\n",
       "    .dataframe thead th {\n",
       "        text-align: right;\n",
       "    }\n",
       "</style>\n",
       "<table border=\"1\" class=\"dataframe\">\n",
       "  <thead>\n",
       "    <tr style=\"text-align: right;\">\n",
       "      <th></th>\n",
       "      <th>0</th>\n",
       "      <th>1</th>\n",
       "    </tr>\n",
       "  </thead>\n",
       "  <tbody>\n",
       "    <tr>\n",
       "      <th>0</th>\n",
       "      <td>2.5</td>\n",
       "      <td>5.0</td>\n",
       "    </tr>\n",
       "    <tr>\n",
       "      <th>1</th>\n",
       "      <td>-7.5</td>\n",
       "      <td>-2.0</td>\n",
       "    </tr>\n",
       "  </tbody>\n",
       "</table>\n",
       "</div>"
      ],
      "text/plain": [
       "     0    1\n",
       "0  2.5  5.0\n",
       "1 -7.5 -2.0"
      ]
     },
     "metadata": {},
     "output_type": "display_data"
    },
    {
     "data": {
      "text/html": [
       "<div>\n",
       "<style scoped>\n",
       "    .dataframe tbody tr th:only-of-type {\n",
       "        vertical-align: middle;\n",
       "    }\n",
       "\n",
       "    .dataframe tbody tr th {\n",
       "        vertical-align: top;\n",
       "    }\n",
       "\n",
       "    .dataframe thead th {\n",
       "        text-align: right;\n",
       "    }\n",
       "</style>\n",
       "<table border=\"1\" class=\"dataframe\">\n",
       "  <thead>\n",
       "    <tr style=\"text-align: right;\">\n",
       "      <th></th>\n",
       "      <th>0</th>\n",
       "      <th>1</th>\n",
       "    </tr>\n",
       "  </thead>\n",
       "  <tbody>\n",
       "    <tr>\n",
       "      <th>0</th>\n",
       "      <td>2.5</td>\n",
       "      <td>5.0</td>\n",
       "    </tr>\n",
       "    <tr>\n",
       "      <th>1</th>\n",
       "      <td>-7.5</td>\n",
       "      <td>-2.0</td>\n",
       "    </tr>\n",
       "  </tbody>\n",
       "</table>\n",
       "</div>"
      ],
      "text/plain": [
       "     0    1\n",
       "0  2.5  5.0\n",
       "1 -7.5 -2.0"
      ]
     },
     "execution_count": 3,
     "metadata": {},
     "output_type": "execute_result"
    }
   ],
   "source": [
    "# Matrizes e vetores compatíveis\n",
    "A = torch.tensor([[1., -2., 0.5],\n",
    "                  [3.,  1., -1.]])   # 2x3\n",
    "B = torch.tensor([[2., -1.],\n",
    "                  [0.,  4.],\n",
    "                  [1.,  3.]])        # 3x2\n",
    "x = torch.tensor([1., 2., -1.])      # tamanho 3\n",
    "y = torch.tensor([2., -1.])          # tamanho 2\n",
    "\n",
    "df_matrix(A, 'Matriz A (2x3)')\n",
    "df_matrix(B, 'Matriz B (3x2)')\n",
    "\n",
    "# Matriz-vetor (mv):\n",
    "Ax = A @ x\n",
    "print('A @ x =', Ax)\n",
    "print('torch.mv(A, x) =', torch.mv(A, x))\n",
    "\n",
    "# Matriz-matriz (mm):\n",
    "AB = A @ B\n",
    "print('\\nA @ B =')\n",
    "df_matrix(AB)\n",
    "\n",
    "# Não comutatividade em geral: AB != BA (quando definido)\n",
    "BA = B @ A\n",
    "print('B @ A =')\n",
    "df_matrix(BA)\n",
    "\n",
    "# Transposições: (AB)^T = B^T A^T\n",
    "lhs = (A @ B).T\n",
    "rhs = B.T @ A.T\n",
    "print('Verificando (AB)^T == B^T A^T ->', torch.allclose(lhs, rhs))\n",
    "df_matrix(lhs, '(AB)^T')\n",
    "df_matrix(rhs, 'B^T A^T')\n"
   ]
  },
  {
   "cell_type": "code",
   "execution_count": 4,
   "id": "3521fe42-d06e-4891-ad0c-bb9ddae00f95",
   "metadata": {},
   "outputs": [
    {
     "name": "stdout",
     "output_type": "stream",
     "text": [
      "Shapes: torch.Size([2, 2, 2]) torch.Size([2, 2, 2])\n",
      "Resultado batch (2 matrizes 2x2):\n",
      "tensor([[[ 6.,  5.],\n",
      "         [-3., -2.]],\n",
      "\n",
      "        [[ 2., -2.],\n",
      "         [ 5., -1.]]])\n"
     ]
    }
   ],
   "source": [
    "# Duas multiplicações 2x2 em batch\n",
    "A_b = torch.stack([\n",
    "    torch.tensor([[1., 2.], [0., -1.]]),\n",
    "    torch.tensor([[2., 0.], [1.,  1.]])\n",
    "])  # shape (2,2,2)\n",
    "B_b = torch.stack([\n",
    "    torch.tensor([[0., 1.], [3., 2.]]),\n",
    "    torch.tensor([[1., -1.], [4., 0.]])\n",
    "])  # shape (2,2,2)\n",
    "print('Shapes:', A_b.shape, B_b.shape)\n",
    "C_b = torch.bmm(A_b, B_b)\n",
    "print('Resultado batch (2 matrizes 2x2):')\n",
    "print(C_b)\n"
   ]
  },
  {
   "cell_type": "code",
   "execution_count": 5,
   "id": "17aac38e-f54a-4b22-bd5c-e109f00cf778",
   "metadata": {},
   "outputs": [
    {
     "name": "stdout",
     "output_type": "stream",
     "text": [
      "Matriz M\n"
     ]
    },
    {
     "data": {
      "text/html": [
       "<div>\n",
       "<style scoped>\n",
       "    .dataframe tbody tr th:only-of-type {\n",
       "        vertical-align: middle;\n",
       "    }\n",
       "\n",
       "    .dataframe tbody tr th {\n",
       "        vertical-align: top;\n",
       "    }\n",
       "\n",
       "    .dataframe thead th {\n",
       "        text-align: right;\n",
       "    }\n",
       "</style>\n",
       "<table border=\"1\" class=\"dataframe\">\n",
       "  <thead>\n",
       "    <tr style=\"text-align: right;\">\n",
       "      <th></th>\n",
       "      <th>0</th>\n",
       "      <th>1</th>\n",
       "    </tr>\n",
       "  </thead>\n",
       "  <tbody>\n",
       "    <tr>\n",
       "      <th>0</th>\n",
       "      <td>4.0</td>\n",
       "      <td>2.0</td>\n",
       "    </tr>\n",
       "    <tr>\n",
       "      <th>1</th>\n",
       "      <td>1.0</td>\n",
       "      <td>3.0</td>\n",
       "    </tr>\n",
       "  </tbody>\n",
       "</table>\n",
       "</div>"
      ],
      "text/plain": [
       "     0    1\n",
       "0  4.0  2.0\n",
       "1  1.0  3.0"
      ]
     },
     "metadata": {},
     "output_type": "display_data"
    },
    {
     "name": "stdout",
     "output_type": "stream",
     "text": [
      "trace(M) = 7.0\n",
      "det(M) = 10.0\n",
      "M^-1\n"
     ]
    },
    {
     "data": {
      "text/html": [
       "<div>\n",
       "<style scoped>\n",
       "    .dataframe tbody tr th:only-of-type {\n",
       "        vertical-align: middle;\n",
       "    }\n",
       "\n",
       "    .dataframe tbody tr th {\n",
       "        vertical-align: top;\n",
       "    }\n",
       "\n",
       "    .dataframe thead th {\n",
       "        text-align: right;\n",
       "    }\n",
       "</style>\n",
       "<table border=\"1\" class=\"dataframe\">\n",
       "  <thead>\n",
       "    <tr style=\"text-align: right;\">\n",
       "      <th></th>\n",
       "      <th>0</th>\n",
       "      <th>1</th>\n",
       "    </tr>\n",
       "  </thead>\n",
       "  <tbody>\n",
       "    <tr>\n",
       "      <th>0</th>\n",
       "      <td>0.3</td>\n",
       "      <td>-0.2</td>\n",
       "    </tr>\n",
       "    <tr>\n",
       "      <th>1</th>\n",
       "      <td>-0.1</td>\n",
       "      <td>0.4</td>\n",
       "    </tr>\n",
       "  </tbody>\n",
       "</table>\n",
       "</div>"
      ],
      "text/plain": [
       "     0    1\n",
       "0  0.3 -0.2\n",
       "1 -0.1  0.4"
      ]
     },
     "metadata": {},
     "output_type": "display_data"
    },
    {
     "name": "stdout",
     "output_type": "stream",
     "text": [
      "M @ M^-1 ≈ I ? -> True\n"
     ]
    }
   ],
   "source": [
    "M = torch.tensor([[4., 2.], [1., 3.]])\n",
    "df_matrix(M, 'Matriz M')\n",
    "tr = torch.trace(M)\n",
    "det = torch.det(M)\n",
    "Minv = torch.inverse(M)\n",
    "print('trace(M) =', float(tr))\n",
    "print('det(M) =', float(det))\n",
    "df_matrix(Minv, 'M^-1')\n",
    "print('M @ M^-1 ≈ I ? ->', torch.allclose(M @ Minv, torch.eye(2, dtype=M.dtype), atol=1e-10))\n"
   ]
  },
  {
   "cell_type": "code",
   "execution_count": 6,
   "id": "48b173b3-bf9c-4c00-bfd4-24f0b99f8c73",
   "metadata": {},
   "outputs": [
    {
     "name": "stdout",
     "output_type": "stream",
     "text": [
      "u = tensor([ 2., -1.,  3.])\n",
      "v = tensor([1., 2., 0.])\n",
      "proj_v(u) = tensor([0., 0., 0.])\n",
      "resíduo (ortogonal a v)? u - proj_v(u) = tensor([ 2., -1.,  3.])\n",
      "v·resíduo ~ 0 -> 0.0\n"
     ]
    }
   ],
   "source": [
    "u = torch.tensor([2., -1., 3.])\n",
    "v = torch.tensor([1.,  2., 0.])\n",
    "proj_u_em_v = (torch.dot(u, v) / torch.dot(v, v)) * v\n",
    "residual = u - proj_u_em_v\n",
    "print('u =', u)\n",
    "print('v =', v)\n",
    "print('proj_v(u) =', proj_u_em_v)\n",
    "print('resíduo (ortogonal a v)? u - proj_v(u) =', residual)\n",
    "print('v·resíduo ~ 0 ->', float(torch.dot(v, residual)))\n"
   ]
  },
  {
   "cell_type": "code",
   "execution_count": null,
   "id": "c6c90f53-8465-4545-a45c-1c5563d6ec24",
   "metadata": {},
   "outputs": [],
   "source": []
  }
 ],
 "metadata": {
  "kernelspec": {
   "display_name": "anaconda-ai-2024.04-py310",
   "language": "python",
   "name": "conda-env-anaconda-ai-2024.04-py310-py"
  },
  "language_info": {
   "codemirror_mode": {
    "name": "ipython",
    "version": 3
   },
   "file_extension": ".py",
   "mimetype": "text/x-python",
   "name": "python",
   "nbconvert_exporter": "python",
   "pygments_lexer": "ipython3",
   "version": "3.10.13"
  }
 },
 "nbformat": 4,
 "nbformat_minor": 5
}
