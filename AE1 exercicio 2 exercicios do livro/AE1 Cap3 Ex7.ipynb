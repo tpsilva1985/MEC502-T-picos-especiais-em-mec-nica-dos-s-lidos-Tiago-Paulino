{
 "cells": [
  {
   "cell_type": "code",
   "execution_count": 1,
   "id": "3482d4bc-d1fe-433a-962e-9ac09d66ed39",
   "metadata": {},
   "outputs": [],
   "source": [
    "import torch\n",
    "import numpy as np\n",
    "import matplotlib.pyplot as plt"
   ]
  },
  {
   "cell_type": "code",
   "execution_count": 2,
   "id": "497d5a6e-ed48-4cfb-b306-b3d6273430e5",
   "metadata": {},
   "outputs": [],
   "source": [
    "\n",
    "torch.manual_seed(0)\n",
    "\n",
    "f = lambda x: torch.sin(2 * torch.pi * x)\n",
    "\n",
    "numberOfSamples = 40  # number of samples\n",
    "noise = 0.1  # random noise added to the training and validation data\n",
    "\n",
    "xTrain = torch.rand((numberOfSamples, 1)) * 2 - 1\n",
    "yTrain = f(xTrain) + noise * (torch.rand(xTrain.shape) * 2 - 1)\n",
    "\n",
    "xTest = torch.rand((numberOfSamples, 1)) * 2 - 1\n",
    "yTest = f(xTest) + noise * (torch.rand(xTest.shape) * 2 - 1)"
   ]
  },
  {
   "cell_type": "code",
   "execution_count": 3,
   "id": "fa0d0281-a7f4-4228-b723-1067de62ab8e",
   "metadata": {},
   "outputs": [],
   "source": [
    "inputDimension = 1\n",
    "hiddenDimensions = [20, 20]  # e.g. [20, 20] for 2 hidden layers with 20 neurons each\n",
    "outputDimension = 1\n",
    "\n",
    "nonlinearity = torch.nn.Sigmoid()  # torch.nn.ReLU()"
   ]
  },
  {
   "cell_type": "code",
   "execution_count": 4,
   "id": "ed205663-dc7d-451d-99ae-c5b1517ab5e9",
   "metadata": {},
   "outputs": [],
   "source": [
    "modules = []\n",
    "modules.append(torch.nn.Linear(inputDimension, hiddenDimensions[0]))\n",
    "modules.append(nonlinearity)\n",
    "for i in range(len(hiddenDimensions) - 1):\n",
    "    modules.append(torch.nn.Linear(hiddenDimensions[i], hiddenDimensions[i + 1]))\n",
    "    modules.append(nonlinearity)\n",
    "\n",
    "modules.append(torch.nn.Linear(hiddenDimensions[-1], outputDimension))\n",
    "\n",
    "model = torch.nn.Sequential(*modules)"
   ]
  },
  {
   "cell_type": "code",
   "execution_count": 5,
   "id": "6ef64043-cf0b-417c-b207-ee2070f2b3d9",
   "metadata": {},
   "outputs": [],
   "source": [
    "\n",
    "epochs = 10000\n",
    "lr = 1e-3\n",
    "regularization = 1e-4\n",
    "\n",
    "optimizer = torch.optim.Adam(\n",
    "    model.parameters(), lr, weight_decay=regularization\n",
    ")  # weight_decay is L2 regularization in Adam"
   ]
  },
  {
   "cell_type": "code",
   "execution_count": 6,
   "id": "0c76e81d-fe19-4967-a3a4-2c3e3c3d69b9",
   "metadata": {},
   "outputs": [],
   "source": [
    "\n",
    "def costFunction(yPred, y):\n",
    "    cost = torch.mean((yPred - y) ** 2)\n",
    "    return cost"
   ]
  },
  {
   "cell_type": "code",
   "execution_count": null,
   "id": "9114c524-daa5-4f88-ba09-1498f8d61969",
   "metadata": {},
   "outputs": [
    {
     "name": "stdout",
     "output_type": "stream",
     "text": [
      "Epoch: 0/10000\t\tTraining cost = 5.74e-01\t\tValidation cost = 6.05e-01\n",
      "Epoch: 100/10000\t\tTraining cost = 4.80e-01\t\tValidation cost = 4.71e-01\n",
      "Epoch: 200/10000\t\tTraining cost = 4.36e-01\t\tValidation cost = 4.35e-01\n",
      "Epoch: 300/10000\t\tTraining cost = 4.13e-01\t\tValidation cost = 4.24e-01\n",
      "Epoch: 400/10000\t\tTraining cost = 4.11e-01\t\tValidation cost = 4.25e-01\n",
      "Epoch: 500/10000\t\tTraining cost = 4.10e-01\t\tValidation cost = 4.26e-01\n",
      "Epoch: 600/10000\t\tTraining cost = 4.09e-01\t\tValidation cost = 4.26e-01\n",
      "Epoch: 700/10000\t\tTraining cost = 4.08e-01\t\tValidation cost = 4.27e-01\n",
      "Epoch: 800/10000\t\tTraining cost = 4.07e-01\t\tValidation cost = 4.27e-01\n",
      "Epoch: 900/10000\t\tTraining cost = 4.06e-01\t\tValidation cost = 4.28e-01\n",
      "Epoch: 1000/10000\t\tTraining cost = 4.05e-01\t\tValidation cost = 4.28e-01\n",
      "Epoch: 1100/10000\t\tTraining cost = 4.04e-01\t\tValidation cost = 4.29e-01\n",
      "Epoch: 1200/10000\t\tTraining cost = 4.02e-01\t\tValidation cost = 4.31e-01\n",
      "Epoch: 1300/10000\t\tTraining cost = 4.00e-01\t\tValidation cost = 4.32e-01\n",
      "Epoch: 1400/10000\t\tTraining cost = 3.96e-01\t\tValidation cost = 4.34e-01\n",
      "Epoch: 1500/10000\t\tTraining cost = 3.92e-01\t\tValidation cost = 4.37e-01\n",
      "Epoch: 1600/10000\t\tTraining cost = 3.83e-01\t\tValidation cost = 4.38e-01\n",
      "Epoch: 1700/10000\t\tTraining cost = 3.65e-01\t\tValidation cost = 4.30e-01\n",
      "Epoch: 1800/10000\t\tTraining cost = 3.36e-01\t\tValidation cost = 4.11e-01\n",
      "Epoch: 1900/10000\t\tTraining cost = 3.08e-01\t\tValidation cost = 3.89e-01\n",
      "Epoch: 2000/10000\t\tTraining cost = 2.82e-01\t\tValidation cost = 3.67e-01\n",
      "Epoch: 2100/10000\t\tTraining cost = 2.51e-01\t\tValidation cost = 3.37e-01\n",
      "Epoch: 2200/10000\t\tTraining cost = 2.08e-01\t\tValidation cost = 2.88e-01\n",
      "Epoch: 2300/10000\t\tTraining cost = 1.34e-01\t\tValidation cost = 1.99e-01\n",
      "Epoch: 2400/10000\t\tTraining cost = 6.37e-02\t\tValidation cost = 1.17e-01\n",
      "Epoch: 2500/10000\t\tTraining cost = 3.83e-02\t\tValidation cost = 8.88e-02\n",
      "Epoch: 2600/10000\t\tTraining cost = 2.98e-02\t\tValidation cost = 7.60e-02\n",
      "Epoch: 2700/10000\t\tTraining cost = 2.50e-02\t\tValidation cost = 6.80e-02\n",
      "Epoch: 2800/10000\t\tTraining cost = 2.16e-02\t\tValidation cost = 6.22e-02\n",
      "Epoch: 2900/10000\t\tTraining cost = 1.91e-02\t\tValidation cost = 5.76e-02\n",
      "Epoch: 3000/10000\t\tTraining cost = 1.71e-02\t\tValidation cost = 5.34e-02\n",
      "Epoch: 3100/10000\t\tTraining cost = 1.53e-02\t\tValidation cost = 4.95e-02\n",
      "Epoch: 3200/10000\t\tTraining cost = 1.39e-02\t\tValidation cost = 4.63e-02\n",
      "Epoch: 3300/10000\t\tTraining cost = 1.27e-02\t\tValidation cost = 4.33e-02\n",
      "Epoch: 3400/10000\t\tTraining cost = 1.17e-02\t\tValidation cost = 4.06e-02\n",
      "Epoch: 3500/10000\t\tTraining cost = 1.07e-02\t\tValidation cost = 3.81e-02\n",
      "Epoch: 3600/10000\t\tTraining cost = 9.87e-03\t\tValidation cost = 3.57e-02\n",
      "Epoch: 3700/10000\t\tTraining cost = 9.10e-03\t\tValidation cost = 3.35e-02\n",
      "Epoch: 3800/10000\t\tTraining cost = 8.43e-03\t\tValidation cost = 3.15e-02\n",
      "Epoch: 3900/10000\t\tTraining cost = 7.86e-03\t\tValidation cost = 2.99e-02\n",
      "Epoch: 4000/10000\t\tTraining cost = 7.39e-03\t\tValidation cost = 2.84e-02\n",
      "Epoch: 4100/10000\t\tTraining cost = 6.98e-03\t\tValidation cost = 2.72e-02\n",
      "Epoch: 4200/10000\t\tTraining cost = 6.63e-03\t\tValidation cost = 2.60e-02\n"
     ]
    }
   ],
   "source": [
    "\n",
    "costHistoryTrain = np.zeros(epochs)\n",
    "costHistoryTest = np.zeros(epochs)\n",
    "for epoch in range(epochs):\n",
    "    optimizer.zero_grad()\n",
    "\n",
    "    yPred = model(xTrain)\n",
    "    cost = costFunction(yPred, yTrain)\n",
    "\n",
    "    with torch.no_grad():\n",
    "        yPredTest = model(xTest)\n",
    "        costTest = costFunction(yPredTest, yTest)\n",
    "\n",
    "    costHistoryTrain[epoch] = cost.detach()\n",
    "    costHistoryTest[epoch] = costTest\n",
    "\n",
    "    cost.backward()\n",
    "\n",
    "    optimizer.step()\n",
    "\n",
    "    if epoch % 100 == 0:\n",
    "        string = \"Epoch: {}/{}\\t\\tTraining cost = {:.2e}\\t\\tValidation cost = {:.2e}\"\n",
    "        print(string.format(epoch, epochs, cost.detach(), costTest))"
   ]
  },
  {
   "cell_type": "code",
   "execution_count": null,
   "id": "35ac3c0f-3abf-411d-bb72-1a7c12bf00bc",
   "metadata": {},
   "outputs": [],
   "source": [
    "\n",
    "x = torch.linspace(-1.2, 1.2, 100).unsqueeze(1)\n",
    "yPred = model(x).detach()\n",
    "\n",
    "fig, ax = plt.subplots(figsize=(12, 6))\n",
    "ax.grid()\n",
    "ax.plot(x, yPred, \"k\", label=\"prediction\")\n",
    "ax.scatter(xTrain, yTrain, color=\"k\", label=\"training data\")\n",
    "ax.scatter(xTest, yTest, color=\"r\", label=\"validation data\")\n",
    "ax.legend()\n",
    "plt.show()"
   ]
  },
  {
   "cell_type": "code",
   "execution_count": null,
   "id": "5ae0ca87-e117-4a1c-9397-cb53cf481250",
   "metadata": {},
   "outputs": [],
   "source": []
  }
 ],
 "metadata": {
  "kernelspec": {
   "display_name": "anaconda-ai-2024.04-py310",
   "language": "python",
   "name": "conda-env-anaconda-ai-2024.04-py310-py"
  },
  "language_info": {
   "codemirror_mode": {
    "name": "ipython",
    "version": 3
   },
   "file_extension": ".py",
   "mimetype": "text/x-python",
   "name": "python",
   "nbconvert_exporter": "python",
   "pygments_lexer": "ipython3",
   "version": "3.10.13"
  }
 },
 "nbformat": 4,
 "nbformat_minor": 5
}
