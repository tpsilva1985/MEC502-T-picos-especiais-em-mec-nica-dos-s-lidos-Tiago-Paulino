{
 "cells": [
  {
   "cell_type": "code",
   "execution_count": 1,
   "id": "f1e87544-32ae-4914-8578-3ecfb82be350",
   "metadata": {},
   "outputs": [
    {
     "name": "stdout",
     "output_type": "stream",
     "text": [
      "Python: /opt/conda/envs/anaconda-ai-2024.04-py310/bin/python\n",
      "PyTorch: 2.2.0\n",
      "CUDA disponível? False\n",
      "MPS (Apple) disponível? False\n"
     ]
    }
   ],
   "source": [
    "import torch, platform, sys\n",
    "print(\"Python:\", sys.executable)\n",
    "print(\"PyTorch:\", torch.__version__)\n",
    "print(\"CUDA disponível?\", torch.cuda.is_available())\n",
    "mps_ok = getattr(torch.backends, \"mps\", None) and torch.backends.mps.is_available()\n",
    "print(\"MPS (Apple) disponível?\", bool(mps_ok))"
   ]
  },
  {
   "cell_type": "code",
   "execution_count": 2,
   "id": "b9a3c066-854f-4c71-a3f4-1091dde12f9f",
   "metadata": {},
   "outputs": [],
   "source": [
    "import torch\n",
    "import matplotlib.pyplot as plt\n",
    "from torch.autograd import grad"
   ]
  },
  {
   "cell_type": "code",
   "execution_count": 3,
   "id": "35cf330c-fac7-4b73-9ab7-a82f0d9d6e3b",
   "metadata": {},
   "outputs": [],
   "source": [
    "u = lambda x, y: 0 * x ** 2 * y ** 2  # needed to force pytorch to evaluate gradient\n",
    "v = lambda x, y: -1.7004e-7 * y ** 2 + x ** 2 * y ** 2 * 0"
   ]
  },
  {
   "cell_type": "code",
   "execution_count": 4,
   "id": "2f182dfd-203b-48a8-a447-608a04dbc6f3",
   "metadata": {},
   "outputs": [],
   "source": [
    "nx = 5\n",
    "ny = 5\n",
    "\n",
    "x = torch.linspace(-1, 1, nx, requires_grad=True)\n",
    "y = torch.linspace(-1, 1, ny, requires_grad=True)\n",
    "x, y = torch.meshgrid(x, y, indexing=\"ij\")"
   ]
  },
  {
   "cell_type": "code",
   "execution_count": 5,
   "id": "af452c87-d8e0-4524-94b1-673561e1a6e8",
   "metadata": {},
   "outputs": [],
   "source": [
    "d = torch.cat((u(x, y).unsqueeze(0), v(x, y).unsqueeze(0)), 0)\n",
    "# the following is achieved by the concatenation\n",
    "# d[0, :, :] == u(x,y)\n",
    "# d[1, :, :] == v(x,y)"
   ]
  },
  {
   "cell_type": "code",
   "execution_count": 8,
   "id": "528cc7f4-4702-4858-bd2c-7663821834f6",
   "metadata": {},
   "outputs": [],
   "source": [
    "dd_dx = torch.zeros((2, 2, nx, ny))\n",
    "dd_dx[0, 0] = grad(d[0], x, torch.ones_like(x), create_graph=True, retain_graph=True)[0]\n",
    "dd_dx[0, 1] = grad(d[0], y, torch.ones_like(y), create_graph=True, retain_graph=True)[0]\n",
    "dd_dx[1, 0] = grad(d[1], x, torch.ones_like(x), create_graph=True, retain_graph=True)[0]\n",
    "dd_dx[1, 1] = grad(d[1], y, torch.ones_like(y), create_graph=True, retain_graph=True)[0]"
   ]
  },
  {
   "cell_type": "code",
   "execution_count": 7,
   "id": "9cca3cf8-4078-4380-86be-a917f823d682",
   "metadata": {},
   "outputs": [],
   "source": [
    "dd_dx = torch.zeros((2, 2, nx, ny))\n",
    "dd_dx[0, 0] = grad(d[0], x, torch.ones_like(x), create_graph=True, retain_graph=True)[0]  # dd_dxdx\n",
    "dd_dx[0, 1] = grad(d[0], y, torch.ones_like(y), create_graph=True, retain_graph=True)[0]  # dd_dxdy\n",
    "dd_dx[1, 0] = grad(d[1], x, torch.ones_like(x), create_graph=True, retain_graph=True)[0]  # dd_dydx\n",
    "dd_dx[1, 1] = grad(d[1], y, torch.ones_like(y), create_graph=True, retain_graph=True)[0]  # dd_dydy"
   ]
  },
  {
   "cell_type": "code",
   "execution_count": 9,
   "id": "0f00b1e8-09cb-42bf-ad90-8bfa48b68d0e",
   "metadata": {},
   "outputs": [],
   "source": [
    "eps = 0.5 * (dd_dx + dd_dx.permute((1, 0, 2, 3)))"
   ]
  },
  {
   "cell_type": "code",
   "execution_count": 10,
   "id": "4030d5d9-7c9e-431c-899a-ea3291c6d9d3",
   "metadata": {},
   "outputs": [],
   "source": [
    "E = 210000.0\n",
    "nu = 0.3\n",
    "\n",
    "C = torch.zeros((2, 2, 2, 2))  # 4th order material tensor\n",
    "C[0, 0, 0, 0] = 1.0\n",
    "C[0, 0, 1, 1] = nu\n",
    "C[1, 1, 0, 0] = nu\n",
    "C[1, 1, 1, 1] = 1.0\n",
    "C[0, 1, 0, 1] = (1.0 - nu) / 2.0\n",
    "C = E / (1.0 - nu ** 2) * C"
   ]
  },
  {
   "cell_type": "code",
   "execution_count": 11,
   "id": "0885083e-745d-4ec9-ad5e-d46b14ee2508",
   "metadata": {},
   "outputs": [],
   "source": [
    "sig = torch.tensordot(C, eps)"
   ]
  },
  {
   "cell_type": "code",
   "execution_count": 20,
   "id": "c14386db-133b-4c24-9908-9a59056d99f9",
   "metadata": {},
   "outputs": [],
   "source": [
    "dsig11_dx = grad(\n",
    "    sig[0, 0], x, torch.ones_like(x), create_graph=True, retain_graph=True\n",
    ")[0]\n",
    "dsig12_dy = grad(\n",
    "    sig[0, 1], y, torch.ones_like(y), create_graph=True, retain_graph=True\n",
    ")[0]\n",
    "dsig21_dx = grad(\n",
    "    sig[1, 0], x, torch.ones_like(x), create_graph=True, retain_graph=True\n",
    ")[0]\n",
    "dsig22_dy = grad(\n",
    "    sig[1, 1], y, torch.ones_like(y), create_graph=True, retain_graph=True\n",
    ")[0]\n",
    "\n",
    "f = torch.zeros((2, nx, ny))\n",
    "f[0] = -dsig11_dx - dsig12_dy  # out of balance force in x1\n",
    "f[1] = -dsig21_dx - dsig22_dy  # out of balance force in x2"
   ]
  },
  {
   "cell_type": "code",
   "execution_count": 13,
   "id": "4b576920-02f5-46af-865d-2aa36d67e7f9",
   "metadata": {},
   "outputs": [],
   "source": [
    "# your code goes here: compute the density"
   ]
  },
  {
   "cell_type": "code",
   "execution_count": 18,
   "id": "265aead0-f487-4cc3-9f80-ac867df94b13",
   "metadata": {},
   "outputs": [
    {
     "name": "stdout",
     "output_type": "stream",
     "text": [
      "tensor([[8.0000e-06, 8.0000e-06, 8.0000e-06, 8.0000e-06, 8.0000e-06],\n",
      "        [8.0000e-06, 8.0000e-06, 8.0000e-06, 8.0000e-06, 8.0000e-06],\n",
      "        [8.0000e-06, 8.0000e-06, 8.0000e-06, 8.0000e-06, 8.0000e-06],\n",
      "        [8.0000e-06, 8.0000e-06, 8.0000e-06, 8.0000e-06, 8.0000e-06],\n",
      "        [8.0000e-06, 8.0000e-06, 8.0000e-06, 8.0000e-06, 8.0000e-06]],\n",
      "       grad_fn=<DivBackward0>)\n"
     ]
    }
   ],
   "source": [
    "g = 9810\n",
    "rho = f[1] / g\n",
    "print(rho)"
   ]
  },
  {
   "cell_type": "code",
   "execution_count": 21,
   "id": "4f5b5696-23b9-47aa-bdf8-ccd76af2d68c",
   "metadata": {},
   "outputs": [
    {
     "data": {
      "text/plain": [
       "(tensor([[0., 0., 0., 0., 0.],\n",
       "         [0., 0., 0., 0., 0.],\n",
       "         [0., 0., 0., 0., 0.],\n",
       "         [0., 0., 0., 0., 0.],\n",
       "         [0., 0., 0., 0., 0.]], grad_fn=<AddBackward0>),)"
      ]
     },
     "execution_count": 21,
     "metadata": {},
     "output_type": "execute_result"
    }
   ],
   "source": [
    "grad(sig[1, 0], x, torch.ones_like(x), create_graph=True, retain_graph=True, allow_unused=True)"
   ]
  },
  {
   "cell_type": "code",
   "execution_count": 3,
   "id": "5e2a8747-53d9-4600-b533-4aa7c2a5ab9a",
   "metadata": {},
   "outputs": [
    {
     "data": {
      "image/png": "[encoded data removed]",
      "text/plain": [
       "<Figure size 640x480 with 2 Axes>"
      ]
     },
     "metadata": {},
     "output_type": "display_data"
    }
   ],
   "source": [
    "import numpy as np\n",
    "import matplotlib.pyplot as plt\n",
    "import torch\n",
    "\n",
    "def to_np(a):\n",
    "    return a.detach().cpu().numpy() if isinstance(a, torch.Tensor) else np.asarray(a)\n",
    "\n",
    "# --------------------------\n",
    "# 1) Resolver/definir a malha (Xg, Yg)\n",
    "# --------------------------\n",
    "Xg = Yg = None\n",
    "\n",
    "if 'X' in globals() and 'Y' in globals():                   # caso A: já tem X,Y 2D\n",
    "    Xg, Yg = to_np(X), to_np(Y)\n",
    "elif 'x' in globals() and 'y' in globals():                 # caso B: tem x,y 1D\n",
    "    xv, yv = to_np(x).reshape(-1), to_np(y).reshape(-1)\n",
    "    Xg, Yg = np.meshgrid(xv, yv, indexing='ij')\n",
    "\n",
    "# --------------------------\n",
    "# 2) Resolver/definir o escalar rho\n",
    "# --------------------------\n",
    "if 'rho' in globals():                                      # use rho existente\n",
    "    Z = globals()['rho']\n",
    "else:\n",
    "    # Tentar construir rho a partir de campos já existentes (ordem de preferência)\n",
    "    if 'sig' in globals():                                  # von Mises (plano)\n",
    "        s11 = globals()['sig'][0,0]\n",
    "        s22 = globals()['sig'][1,1]\n",
    "        s12 = globals()['sig'][0,1]\n",
    "        Z = torch.sqrt(s11**2 - s11*s22 + s22**2 + 3.0*s12**2)\n",
    "    elif 'd' in globals():                                  # módulo do deslocamento\n",
    "        Z = torch.sqrt(globals()['d'][0]**2 + globals()['d'][1]**2)\n",
    "    elif 'f' in globals():                                  # módulo de -div(sigma)\n",
    "        Z = torch.sqrt(globals()['f'][0]**2 + globals()['f'][1]**2)\n",
    "    elif 'eps' in globals():                                # um componente de deformação\n",
    "        Z = globals()['eps'][0,0]\n",
    "    else:\n",
    "        # Nada disponível: cria um campo sintético e uma malha, se precisar\n",
    "        if Xg is None or Yg is None:\n",
    "            nx = ny = 100\n",
    "            xv = np.linspace(-1, 1, nx)\n",
    "            yv = np.linspace(-1, 1, ny)\n",
    "            Xg, Yg = np.meshgrid(xv, yv, indexing='ij')\n",
    "        Z = torch.from_numpy(np.exp(-0.5*(Xg**2 + Yg**2)))\n",
    "\n",
    "# --------------------------\n",
    "# 3) Se ainda não havia malha, inferir da forma de Z\n",
    "# --------------------------\n",
    "Znp = to_np(Z)\n",
    "if Xg is None or Yg is None:\n",
    "    nx, ny = Znp.shape\n",
    "    xv = np.arange(nx)\n",
    "    yv = np.arange(ny)\n",
    "    Xg, Yg = np.meshgrid(xv, yv, indexing='ij')\n",
    "\n",
    "# Ajustar orientação se necessário\n",
    "if Znp.shape != Xg.shape:\n",
    "    if Znp.T.shape == Xg.shape:\n",
    "        Znp = Znp.T\n",
    "    else:\n",
    "        raise ValueError(f\"Shape de rho {Znp.shape} não corresponde à malha {Xg.shape}.\")\n",
    "\n",
    "# --------------------------\n",
    "# 4) Plot\n",
    "# --------------------------\n",
    "fig, ax = plt.subplots()\n",
    "cp = ax.contourf(Xg, Yg, Znp, levels=12, cmap=plt.cm.jet)  # igual ao seu cmap\n",
    "fig.colorbar(cp, ax=ax, format=\"%.2e\")\n",
    "ax.set_aspect(\"equal\", adjustable='box')\n",
    "fig.tight_layout()\n",
    "plt.show()\n",
    "\n"
   ]
  },
  {
   "cell_type": "code",
   "execution_count": null,
   "id": "f536dc10-7c75-466d-b6fc-521b54573ff0",
   "metadata": {},
   "outputs": [],
   "source": []
  }
 ],
 "metadata": {
  "kernelspec": {
   "display_name": "anaconda-ai-2024.04-py310",
   "language": "python",
   "name": "conda-env-anaconda-ai-2024.04-py310-py"
  },
  "language_info": {
   "codemirror_mode": {
    "name": "ipython",
    "version": 3
   },
   "file_extension": ".py",
   "mimetype": "text/x-python",
   "name": "python",
   "nbconvert_exporter": "python",
   "pygments_lexer": "ipython3",
   "version": "3.10.13"
  }
 },
 "nbformat": 4,
 "nbformat_minor": 5
}
