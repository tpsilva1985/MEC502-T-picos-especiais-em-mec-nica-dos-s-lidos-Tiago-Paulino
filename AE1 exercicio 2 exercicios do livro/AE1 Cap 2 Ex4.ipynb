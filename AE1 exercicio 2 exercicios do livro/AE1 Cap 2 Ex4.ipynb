{
 "cells": [
  {
   "cell_type": "code",
   "execution_count": 1,
   "id": "f84f55e0-f352-43fa-b892-2a829a496d9f",
   "metadata": {},
   "outputs": [],
   "source": [
    "import numpy as np\n",
    "import matplotlib.pyplot as plt"
   ]
  },
  {
   "cell_type": "code",
   "execution_count": 2,
   "id": "17e8e339-c7ae-492c-99ac-888e336efd74",
   "metadata": {},
   "outputs": [],
   "source": [
    "np.random.seed(7654)  # deterministic random seed\n",
    "xTrain = np.random.randn(80)\n",
    "yTrain = 2 * xTrain + 3 + np.random.randn(80)\n",
    "\n",
    "xTest = np.random.randn(20)\n",
    "yTest = 2 * xTest + 3 + np.random.randn(20)"
   ]
  },
  {
   "cell_type": "code",
   "execution_count": null,
   "id": "8d17f594-8819-495d-b915-65ec222769d6",
   "metadata": {},
   "outputs": [],
   "source": [
    "class LinearRegression:\n",
    "    def __init__(self):\n",
    "        self.weight = 0\n",
    "        self.bias = 0\n",
    "\n",
    "    def forward(self, x):\n",
    "        y = self.weight * x + self.bias\n",
    "        return y\n",
    "\n",
    "    def costFunction(self, x, y):\n",
    "        cost = np.mean((self.forward(x) - y) ** 2)\n",
    "        return cost\n",
    "\n",
    "    def gradient(self, x, y):\n",
    "        gradientWeight = np.mean((2 * (self.forward(x) - y) * x))\n",
    "        gradientBias = np.mean((2 * (self.forward(x) - y)))\n",
    "        return gradientWeight, gradientBias\n",
    "\n",
    "    def train(self, epochs, lr, xTrain, yTrain, xTest, yTest):\n",
    "        for epoch in range(epochs):\n",
    "            costTrain = self.costFunction(xTrain, yTrain)\n",
    "            costTest = self.costFunction(xTest, yTest)\n",
    "\n",
    "            # Update step\n",
    "            gradientWeight, gradientBias = self.gradient(xTrain, yTrain)\n",
    "            self.weight -= lr * gradientWeight\n",
    "            self.bias -= lr * gradientBias\n",
    "             if epoch % 10 == 0:\n",
    "                string = \"Epoch: {}/{}\\t\\tTraining cost = {:.2e}\\t\\tValidation cost = {:.2e}\"\n",
    "                print(string.format(epoch, epochs, costTrain, costTest))"
   ]
  },
  {
   "cell_type": "code",
   "execution_count": null,
   "id": "e7724074-3c47-48dd-9757-1c17963756e9",
   "metadata": {},
   "outputs": [],
   "source": [
    "lr = 5e-2\n",
    "epochs = 101\n",
    "\n",
    "model = LinearRegression()\n",
    "model.train(epochs, lr, xTrain, yTrain, xTest, yTest)"
   ]
  },
  {
   "cell_type": "code",
   "execution_count": 4,
   "id": "17dd6ed5-7533-4fb2-b9fd-3984bbeeec59",
   "metadata": {},
   "outputs": [
    {
     "ename": "NameError",
     "evalue": "name 'model' is not defined",
     "output_type": "error",
     "traceback": [
      "\u001b[0;31m---------------------------------------------------------------------------\u001b[0m",
      "\u001b[0;31mNameError\u001b[0m                                 Traceback (most recent call last)",
      "Cell \u001b[0;32mIn[4], line 1\u001b[0m\n\u001b[0;32m----> 1\u001b[0m yTrainPred \u001b[38;5;241m=\u001b[39m \u001b[43mmodel\u001b[49m\u001b[38;5;241m.\u001b[39mforward(xTrain)  \u001b[38;5;66;03m# not visualized\u001b[39;00m\n\u001b[1;32m      2\u001b[0m yTestPred \u001b[38;5;241m=\u001b[39m model\u001b[38;5;241m.\u001b[39mforward(xTest)  \u001b[38;5;66;03m# not visualized\u001b[39;00m\n\u001b[1;32m      4\u001b[0m \u001b[38;5;66;03m# Draw predictor between min and max x values of Testset\u001b[39;00m\n",
      "\u001b[0;31mNameError\u001b[0m: name 'model' is not defined"
     ]
    }
   ],
   "source": [
    "yTrainPred = model.forward(xTrain)  # not visualized\n",
    "yTestPred = model.forward(xTest)  # not visualized\n",
    "\n",
    "# Draw predictor between min and max x values of Testset\n",
    "x = np.linspace(np.min(xTest), np.max(xTest), 100)\n",
    "yPred = model.forward(x)\n",
    "\n",
    "fig, ax = plt.subplots(figsize=(12, 6))\n",
    "ax.scatter(xTest, yTest, color=\"r\", label=\"testing data\")\n",
    "ax.scatter(xTrain, yTrain, color=\"k\", label=\"training data\")\n",
    "ax.plot(x, yPred, \"b\", label=\"prediction\")\n",
    "ax.legend()\n",
    "plt.show()"
   ]
  },
  {
   "cell_type": "code",
   "execution_count": null,
   "id": "06153211-9061-46f3-be9e-e77c640e8ce4",
   "metadata": {},
   "outputs": [],
   "source": []
  }
 ],
 "metadata": {
  "kernelspec": {
   "display_name": "anaconda-ai-2024.04-py310",
   "language": "python",
   "name": "conda-env-anaconda-ai-2024.04-py310-py"
  },
  "language_info": {
   "codemirror_mode": {
    "name": "ipython",
    "version": 3
   },
   "file_extension": ".py",
   "mimetype": "text/x-python",
   "name": "python",
   "nbconvert_exporter": "python",
   "pygments_lexer": "ipython3",
   "version": "3.10.13"
  }
 },
 "nbformat": 4,
 "nbformat_minor": 5
}
