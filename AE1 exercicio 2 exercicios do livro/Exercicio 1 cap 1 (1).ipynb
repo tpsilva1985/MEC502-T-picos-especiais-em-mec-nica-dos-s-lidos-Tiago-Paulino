{
 "cells": [
  {
   "cell_type": "code",
   "execution_count": 2,
   "id": "06256997-a2b0-4e83-9edf-d4ce0ddbb8f0",
   "metadata": {},
   "outputs": [
    {
     "name": "stdout",
     "output_type": "stream",
     "text": [
      "Python: /opt/conda/envs/anaconda-ai-2024.04-py310/bin/python\n",
      "PyTorch: 2.2.0\n",
      "CUDA disponível? False\n",
      "MPS (Apple) disponível? False\n"
     ]
    }
   ],
   "source": [
    "import torch, platform, sys\n",
    "print(\"Python:\", sys.executable)\n",
    "print(\"PyTorch:\", torch.__version__)\n",
    "print(\"CUDA disponível?\", torch.cuda.is_available())\n",
    "mps_ok = getattr(torch.backends, \"mps\", None) and torch.backends.mps.is_available()\n",
    "print(\"MPS (Apple) disponível?\", bool(mps_ok))"
   ]
  },
  {
   "cell_type": "code",
   "execution_count": 3,
   "id": "7c5eddd8-4274-40d0-a1f5-92cfdc61c995",
   "metadata": {},
   "outputs": [],
   "source": [
    "a = torch.tensor([[0., 2., 4.], [3., 5., 7.]])  # shape (2, 3)\n",
    "b = torch.zeros(3, 3, 3)  # shape (3, 3, 3)\n",
    "c = torch.linspace(0, 1, 10)  # shape (x)\n",
    "d = torch.ones(1, 3)  # shape (1, 3)"
   ]
  },
  {
   "cell_type": "code",
   "execution_count": 5,
   "id": "2bac19f4-4525-44da-bd59-212c97074122",
   "metadata": {},
   "outputs": [
    {
     "data": {
      "text/plain": [
       "tensor([2., 4.])"
      ]
     },
     "execution_count": 5,
     "metadata": {},
     "output_type": "execute_result"
    }
   ],
   "source": [
    "a.size()  # dimensions\n",
    "\n",
    "a[0, 0]  # 0th element\n",
    "a[:, 0]  # first order tensor along 0th dimension (returns all rows in 0th column)\n",
    "a[-1, -1]  # last element (7.)\n",
    "b[0, :, :]  # 0th second order tensor\n",
    "a[0, 1:3]  # last two elements of the 0th first order tensor (2., 4.)"
   ]
  },
  {
   "cell_type": "code",
   "execution_count": 4,
   "id": "e2921bce-4722-4c2e-9f78-eee7ef30de5e",
   "metadata": {},
   "outputs": [
    {
     "data": {
      "text/plain": [
       "tensor([[ 1.0000, -0.4161, -0.6536],\n",
       "        [-0.9900,  0.2837,  0.7539]])"
      ]
     },
     "execution_count": 4,
     "metadata": {},
     "output_type": "execute_result"
    }
   ],
   "source": [
    "torch.cat((a, d), 0)  # return concatenation in dimension 0. (3, 3)\n",
    "torch.transpose(a, 0, 1)  # return a with dimensions 0 and 1 transposed (3, 2)\n",
    "torch.permute(b, (2, 1, 0))  # dimensions 0 and 2 are permuted\n",
    "torch.reshape(a, (1, 6))  # or c.view(1, 6) reshape to (1, 6)\n",
    "torch.unsqueeze(a, 0)  # creates an additional empty dimension (1, 2, 3)\n",
    "torch.squeeze(d, 0)  # removes first empty dimension (3)\n",
    "torch.flatten(b)  # flattens b (27)\n",
    "torch.ones_like(c)  # creates a tensor of ones with the shape of c\n",
    "torch.cos(a)  # applies cosine to each entry"
   ]
  },
  {
   "cell_type": "code",
   "execution_count": 6,
   "id": "a3c59823-9f22-41da-bea2-227a6cb58d88",
   "metadata": {},
   "outputs": [
    {
     "data": {
      "text/plain": [
       "array([ True,  True])"
      ]
     },
     "execution_count": 6,
     "metadata": {},
     "output_type": "execute_result"
    }
   ],
   "source": [
    "import numpy as np\n",
    "\n",
    "a = np.array([2., 3.])\n",
    "b = torch.from_numpy(a)  # convert numpy array to torch tensor\n",
    "c = b.numpy()  # convert to torch tensor from numpy array\n",
    "\n",
    "a == c"
   ]
  },
  {
   "cell_type": "code",
   "execution_count": 8,
   "id": "22791fdc-7899-4e66-bd32-65d0dbd6fc16",
   "metadata": {},
   "outputs": [],
   "source": [
    "x = torch.linspace(0, 1, 10)  # shape (10)\n",
    "y = torch.linspace(0, 2, 5)  # shape (5)\n",
    "x, y = torch.meshgrid(x, y, indexing='ij')  # grid of shape (10, 5)\n",
    "     "
   ]
  },
  {
   "cell_type": "code",
   "execution_count": 9,
   "id": "d3b46f1a-1f65-4900-8fbe-3e466b05898f",
   "metadata": {},
   "outputs": [
    {
     "data": {
      "text/plain": [
       "True"
      ]
     },
     "execution_count": 9,
     "metadata": {},
     "output_type": "execute_result"
    }
   ],
   "source": [
    "\n",
    "## Member Variables\n",
    "x.data  # values stored in the tensor\n",
    "x.requires_grad  # boolean enabling computation graph\n",
    "x.grad  # value of the gradient\n",
    "x.grad_fn  # function handle storing previous operation\n",
    "x.is_leaf  # boolean stating if tensor is a leaf node (see Chapter 2)"
   ]
  },
  {
   "cell_type": "code",
   "execution_count": 10,
   "id": "c26f0e05-e4cb-4d0f-a46d-0b5bae5cfd43",
   "metadata": {},
   "outputs": [
    {
     "name": "stdout",
     "output_type": "stream",
     "text": [
      "tensor([0.0000, 0.4211, 0.8421, 1.2632, 1.6842, 2.1053, 2.5263, 2.9474, 3.3684,\n",
      "        3.7895, 4.2105, 4.6316, 5.0526, 5.4737, 5.8947, 6.3158, 6.7368, 7.1579,\n",
      "        7.5789, 8.0000])\n"
     ]
    }
   ],
   "source": [
    "x = torch.linspace(0., 1., 20, requires_grad=True)\n",
    "y = 2 * x\n",
    "z = y ** 2\n",
    "\n",
    "y.retain_grad()  # otherwise gradient with respect to y will be deleted\n",
    "\n",
    "z.backward(torch.ones_like(z))  # differentiate z with respect to all variables used to create it\n",
    "\n",
    "dzdx = x.grad  # gradient of z with respect to x: 8 * x\n",
    "dzdy = y.grad  # gradient of z with respect to y: 2 * y = 4 * x\n",
    "\n",
    "print(x.grad)"
   ]
  },
  {
   "cell_type": "code",
   "execution_count": 11,
   "id": "3c8e3249-f891-4c08-9d1c-5569103abe2a",
   "metadata": {},
   "outputs": [
    {
     "name": "stderr",
     "output_type": "stream",
     "text": [
      "Matplotlib is building the font cache; this may take a moment.\n"
     ]
    },
    {
     "data": {
      "image/png": "[encoded data removed]",
      "text/plain": [
       "<Figure size 640x480 with 1 Axes>"
      ]
     },
     "metadata": {},
     "output_type": "display_data"
    }
   ],
   "source": [
    "import matplotlib.pyplot as plt\n",
    "\n",
    "# Plot the function and gradients with respect to variables used in its graph\n",
    "# .detach() is used when the computation graph is no longer needed\n",
    "plt.plot(x.detach(), z.detach(), label='z')\n",
    "plt.plot(x.detach(), dzdx, '.', label='dz/dx')\n",
    "plt.plot(x.detach(), dzdy, '.', label='dz/dy')\n",
    "\n",
    "plt.legend()\n",
    "plt.grid(True)\n",
    "plt.show()"
   ]
  },
  {
   "cell_type": "code",
   "execution_count": 12,
   "id": "af4b4612-ba51-4eba-97c5-525e11fc91aa",
   "metadata": {},
   "outputs": [
    {
     "data": {
      "text/plain": [
       "tensor([ 0.5453, -0.2995, -0.5264])"
      ]
     },
     "execution_count": 12,
     "metadata": {},
     "output_type": "execute_result"
    }
   ],
   "source": [
    "model = torch.nn.Linear(2, 3)  # input size: 2 and output size: 3\n",
    "x = torch.tensor([[1., 2.]])  # input\n",
    "y = model(x)  # output\n",
    "\n",
    "# access weight parameters\n",
    "model.weight.data  # returns a tensor of shape (3, 2)\n",
    "model.bias.data  # returns a tensor of shape (3)"
   ]
  },
  {
   "cell_type": "code",
   "execution_count": 13,
   "id": "f2a6de27-cd23-43e0-bc70-e82c5fbee4c2",
   "metadata": {},
   "outputs": [
    {
     "data": {
      "text/plain": [
       "tensor([1., 1., 1., 1.])"
      ]
     },
     "execution_count": 13,
     "metadata": {},
     "output_type": "execute_result"
    }
   ],
   "source": [
    "\n",
    "device = torch.device('cuda' if torch.cuda.is_available() else 'cpu')\n",
    "\n",
    "a = torch.ones(4, device=device)  # cuda\n",
    "b = torch.ones(4)  # cpu\n",
    "\n",
    "# transfer to CUDA\n",
    "b = b.to(device)\n",
    "model = model.to(device)\n",
    "\n",
    "# transfer back to CPU\n",
    "a.cpu()"
   ]
  },
  {
   "cell_type": "code",
   "execution_count": null,
   "id": "ea51bc83-6358-44aa-819d-e52fba4dbcf0",
   "metadata": {},
   "outputs": [],
   "source": []
  }
 ],
 "metadata": {
  "kernelspec": {
   "display_name": "anaconda-ai-2024.04-py310",
   "language": "python",
   "name": "conda-env-anaconda-ai-2024.04-py310-py"
  },
  "language_info": {
   "codemirror_mode": {
    "name": "ipython",
    "version": 3
   },
   "file_extension": ".py",
   "mimetype": "text/x-python",
   "name": "python",
   "nbconvert_exporter": "python",
   "pygments_lexer": "ipython3",
   "version": "3.10.13"
  }
 },
 "nbformat": 4,
 "nbformat_minor": 5
}
